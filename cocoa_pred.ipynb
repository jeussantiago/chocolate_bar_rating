{
 "cells": [
  {
   "cell_type": "code",
   "execution_count": 1,
   "metadata": {},
   "outputs": [],
   "source": [
    "import scipy.stats as stats\n",
    "from statsmodels.formula.api import ols\n",
    "import statsmodels.api as sm\n",
    "from sklearn.model_selection import train_test_split\n",
    "\n",
    "from sklearn.linear_model import LinearRegression\n",
    "from sklearn.model_selection import cross_val_score\n",
    "from sklearn.model_selection import KFold\n",
    "from sklearn.datasets import load_boston\n",
    "import pandas as pd\n",
    "import numpy as np\n",
    "import matplotlib.pyplot as plt\n",
    "import seaborn as sns\n",
    "\n",
    "import warnings\n",
    "warnings.filterwarnings('ignore')"
   ]
  },
  {
   "cell_type": "code",
   "execution_count": 2,
   "metadata": {},
   "outputs": [
    {
     "data": {
      "text/html": [
       "<div>\n",
       "<style scoped>\n",
       "    .dataframe tbody tr th:only-of-type {\n",
       "        vertical-align: middle;\n",
       "    }\n",
       "\n",
       "    .dataframe tbody tr th {\n",
       "        vertical-align: top;\n",
       "    }\n",
       "\n",
       "    .dataframe thead th {\n",
       "        text-align: right;\n",
       "    }\n",
       "</style>\n",
       "<table border=\"1\" class=\"dataframe\">\n",
       "  <thead>\n",
       "    <tr style=\"text-align: right;\">\n",
       "      <th></th>\n",
       "      <th>rating</th>\n",
       "      <th>CQ</th>\n",
       "      <th>sweetness</th>\n",
       "      <th>acidity</th>\n",
       "      <th>bitterness</th>\n",
       "      <th>roast</th>\n",
       "      <th>intensity</th>\n",
       "      <th>complexity</th>\n",
       "      <th>structure</th>\n",
       "      <th>length</th>\n",
       "      <th>appearance</th>\n",
       "      <th>aroma</th>\n",
       "      <th>mouthfeel</th>\n",
       "      <th>flavor</th>\n",
       "      <th>quality</th>\n",
       "      <th>aroma_struct</th>\n",
       "      <th>aroma_mouthfeel</th>\n",
       "      <th>flavor_length</th>\n",
       "      <th>flavor_compl</th>\n",
       "      <th>log_cocoa_perc</th>\n",
       "    </tr>\n",
       "  </thead>\n",
       "  <tbody>\n",
       "    <tr>\n",
       "      <th>0</th>\n",
       "      <td>2.5</td>\n",
       "      <td>57.0</td>\n",
       "      <td>55.0</td>\n",
       "      <td>48.0</td>\n",
       "      <td>37.0</td>\n",
       "      <td>62.0</td>\n",
       "      <td>51.0</td>\n",
       "      <td>43.0</td>\n",
       "      <td>41.0</td>\n",
       "      <td>29.0</td>\n",
       "      <td>74.0</td>\n",
       "      <td>72.0</td>\n",
       "      <td>72.0</td>\n",
       "      <td>81.4</td>\n",
       "      <td>83.0</td>\n",
       "      <td>2952.0</td>\n",
       "      <td>5184.0</td>\n",
       "      <td>2360.6</td>\n",
       "      <td>3500.2</td>\n",
       "      <td>4.174387</td>\n",
       "    </tr>\n",
       "    <tr>\n",
       "      <th>1</th>\n",
       "      <td>4.0</td>\n",
       "      <td>53.0</td>\n",
       "      <td>42.0</td>\n",
       "      <td>40.0</td>\n",
       "      <td>49.0</td>\n",
       "      <td>71.0</td>\n",
       "      <td>37.0</td>\n",
       "      <td>36.0</td>\n",
       "      <td>80.0</td>\n",
       "      <td>82.0</td>\n",
       "      <td>92.0</td>\n",
       "      <td>82.0</td>\n",
       "      <td>85.3</td>\n",
       "      <td>88.4</td>\n",
       "      <td>86.5</td>\n",
       "      <td>6560.0</td>\n",
       "      <td>6994.6</td>\n",
       "      <td>7248.8</td>\n",
       "      <td>3182.4</td>\n",
       "      <td>4.317488</td>\n",
       "    </tr>\n",
       "    <tr>\n",
       "      <th>2</th>\n",
       "      <td>3.5</td>\n",
       "      <td>44.0</td>\n",
       "      <td>48.0</td>\n",
       "      <td>76.0</td>\n",
       "      <td>50.0</td>\n",
       "      <td>63.0</td>\n",
       "      <td>45.0</td>\n",
       "      <td>52.0</td>\n",
       "      <td>39.0</td>\n",
       "      <td>81.0</td>\n",
       "      <td>100.0</td>\n",
       "      <td>80.0</td>\n",
       "      <td>82.0</td>\n",
       "      <td>86.4</td>\n",
       "      <td>87.0</td>\n",
       "      <td>3120.0</td>\n",
       "      <td>6560.0</td>\n",
       "      <td>6998.4</td>\n",
       "      <td>4492.8</td>\n",
       "      <td>4.317488</td>\n",
       "    </tr>\n",
       "    <tr>\n",
       "      <th>3</th>\n",
       "      <td>4.0</td>\n",
       "      <td>60.0</td>\n",
       "      <td>56.0</td>\n",
       "      <td>76.0</td>\n",
       "      <td>20.0</td>\n",
       "      <td>68.0</td>\n",
       "      <td>64.0</td>\n",
       "      <td>62.0</td>\n",
       "      <td>83.0</td>\n",
       "      <td>51.0</td>\n",
       "      <td>100.0</td>\n",
       "      <td>73.0</td>\n",
       "      <td>90.7</td>\n",
       "      <td>89.0</td>\n",
       "      <td>90.0</td>\n",
       "      <td>6059.0</td>\n",
       "      <td>6621.1</td>\n",
       "      <td>4539.0</td>\n",
       "      <td>5518.0</td>\n",
       "      <td>4.174387</td>\n",
       "    </tr>\n",
       "    <tr>\n",
       "      <th>4</th>\n",
       "      <td>3.5</td>\n",
       "      <td>23.0</td>\n",
       "      <td>21.0</td>\n",
       "      <td>8.0</td>\n",
       "      <td>70.0</td>\n",
       "      <td>76.0</td>\n",
       "      <td>52.0</td>\n",
       "      <td>10.0</td>\n",
       "      <td>78.0</td>\n",
       "      <td>69.0</td>\n",
       "      <td>92.0</td>\n",
       "      <td>84.0</td>\n",
       "      <td>83.3</td>\n",
       "      <td>84.2</td>\n",
       "      <td>82.5</td>\n",
       "      <td>6552.0</td>\n",
       "      <td>6997.2</td>\n",
       "      <td>5809.8</td>\n",
       "      <td>842.0</td>\n",
       "      <td>4.442651</td>\n",
       "    </tr>\n",
       "  </tbody>\n",
       "</table>\n",
       "</div>"
      ],
      "text/plain": [
       "   rating    CQ  sweetness  acidity  bitterness  roast  intensity  complexity  \\\n",
       "0     2.5  57.0       55.0     48.0        37.0   62.0       51.0        43.0   \n",
       "1     4.0  53.0       42.0     40.0        49.0   71.0       37.0        36.0   \n",
       "2     3.5  44.0       48.0     76.0        50.0   63.0       45.0        52.0   \n",
       "3     4.0  60.0       56.0     76.0        20.0   68.0       64.0        62.0   \n",
       "4     3.5  23.0       21.0      8.0        70.0   76.0       52.0        10.0   \n",
       "\n",
       "   structure  length  appearance  aroma  mouthfeel  flavor  quality  \\\n",
       "0       41.0    29.0        74.0   72.0       72.0    81.4     83.0   \n",
       "1       80.0    82.0        92.0   82.0       85.3    88.4     86.5   \n",
       "2       39.0    81.0       100.0   80.0       82.0    86.4     87.0   \n",
       "3       83.0    51.0       100.0   73.0       90.7    89.0     90.0   \n",
       "4       78.0    69.0        92.0   84.0       83.3    84.2     82.5   \n",
       "\n",
       "   aroma_struct  aroma_mouthfeel  flavor_length  flavor_compl  log_cocoa_perc  \n",
       "0        2952.0           5184.0         2360.6        3500.2        4.174387  \n",
       "1        6560.0           6994.6         7248.8        3182.4        4.317488  \n",
       "2        3120.0           6560.0         6998.4        4492.8        4.317488  \n",
       "3        6059.0           6621.1         4539.0        5518.0        4.174387  \n",
       "4        6552.0           6997.2         5809.8         842.0        4.442651  "
      ]
     },
     "execution_count": 2,
     "metadata": {},
     "output_type": "execute_result"
    }
   ],
   "source": [
    "df = pd.read_csv(\"inter_choco_rating.csv\")\n",
    "df.head()"
   ]
  },
  {
   "cell_type": "code",
   "execution_count": 3,
   "metadata": {},
   "outputs": [],
   "source": [
    "#create a training sample of 80% of our data\n",
    "df_train = df.sample(frac=0.8, random_state=5)\n",
    "#test sample of 20% of our data\n",
    "df_test = df.drop(df_train.index, axis=0)"
   ]
  },
  {
   "cell_type": "code",
   "execution_count": 4,
   "metadata": {},
   "outputs": [],
   "source": [
    "#seperate training\n",
    "y_train = df_train['rating']\n",
    "x_train = df_train.iloc[:,1:]\n",
    "#seperate testing\n",
    "y_test = df_train['rating']\n",
    "x_test = df_train.iloc[:,1:]"
   ]
  },
  {
   "cell_type": "code",
   "execution_count": 5,
   "metadata": {},
   "outputs": [
    {
     "name": "stdout",
     "output_type": "stream",
     "text": [
      "baseline:  0.8632945382439855\n"
     ]
    }
   ],
   "source": [
    "regression = LinearRegression()\n",
    "crossvalidation = KFold(n_splits=10, shuffle=True, random_state=1)\n",
    "\n",
    "baseline = np.mean(cross_val_score(regression, x_train, y_train, scoring='r2', cv=crossvalidation))\n",
    "print('baseline: ', baseline)"
   ]
  },
  {
   "cell_type": "code",
   "execution_count": 6,
   "metadata": {
    "scrolled": false
   },
   "outputs": [
    {
     "data": {
      "text/html": [
       "<table class=\"simpletable\">\n",
       "<caption>OLS Regression Results</caption>\n",
       "<tr>\n",
       "  <th>Dep. Variable:</th>         <td>rating</td>      <th>  R-squared:         </th> <td>   0.879</td>\n",
       "</tr>\n",
       "<tr>\n",
       "  <th>Model:</th>                   <td>OLS</td>       <th>  Adj. R-squared:    </th> <td>   0.877</td>\n",
       "</tr>\n",
       "<tr>\n",
       "  <th>Method:</th>             <td>Least Squares</td>  <th>  F-statistic:       </th> <td>   410.5</td>\n",
       "</tr>\n",
       "<tr>\n",
       "  <th>Date:</th>             <td>Sun, 21 Apr 2019</td> <th>  Prob (F-statistic):</th>  <td>  0.00</td> \n",
       "</tr>\n",
       "<tr>\n",
       "  <th>Time:</th>                 <td>21:50:45</td>     <th>  Log-Likelihood:    </th> <td> -549.87</td>\n",
       "</tr>\n",
       "<tr>\n",
       "  <th>No. Observations:</th>      <td>  1094</td>      <th>  AIC:               </th> <td>   1140.</td>\n",
       "</tr>\n",
       "<tr>\n",
       "  <th>Df Residuals:</th>          <td>  1074</td>      <th>  BIC:               </th> <td>   1240.</td>\n",
       "</tr>\n",
       "<tr>\n",
       "  <th>Df Model:</th>              <td>    19</td>      <th>                     </th>     <td> </td>   \n",
       "</tr>\n",
       "<tr>\n",
       "  <th>Covariance Type:</th>      <td>nonrobust</td>    <th>                     </th>     <td> </td>   \n",
       "</tr>\n",
       "</table>\n",
       "<table class=\"simpletable\">\n",
       "<tr>\n",
       "         <td></td>            <th>coef</th>     <th>std err</th>      <th>t</th>      <th>P>|t|</th>  <th>[0.025</th>    <th>0.975]</th>  \n",
       "</tr>\n",
       "<tr>\n",
       "  <th>const</th>           <td>    0.2006</td> <td>    0.533</td> <td>    0.377</td> <td> 0.707</td> <td>   -0.845</td> <td>    1.246</td>\n",
       "</tr>\n",
       "<tr>\n",
       "  <th>CQ</th>              <td>    0.0028</td> <td>    0.001</td> <td>    3.942</td> <td> 0.000</td> <td>    0.001</td> <td>    0.004</td>\n",
       "</tr>\n",
       "<tr>\n",
       "  <th>sweetness</th>       <td>    0.0013</td> <td>    0.001</td> <td>    1.458</td> <td> 0.145</td> <td>   -0.000</td> <td>    0.003</td>\n",
       "</tr>\n",
       "<tr>\n",
       "  <th>acidity</th>         <td>    0.0015</td> <td>    0.001</td> <td>    2.151</td> <td> 0.032</td> <td>    0.000</td> <td>    0.003</td>\n",
       "</tr>\n",
       "<tr>\n",
       "  <th>bitterness</th>      <td>    0.0009</td> <td>    0.001</td> <td>    1.037</td> <td> 0.300</td> <td>   -0.001</td> <td>    0.003</td>\n",
       "</tr>\n",
       "<tr>\n",
       "  <th>roast</th>           <td>   -0.0003</td> <td>    0.001</td> <td>   -0.390</td> <td> 0.697</td> <td>   -0.002</td> <td>    0.001</td>\n",
       "</tr>\n",
       "<tr>\n",
       "  <th>intensity</th>       <td>   -0.0005</td> <td>    0.001</td> <td>   -0.553</td> <td> 0.581</td> <td>   -0.002</td> <td>    0.001</td>\n",
       "</tr>\n",
       "<tr>\n",
       "  <th>complexity</th>      <td>   -0.0384</td> <td>    0.005</td> <td>   -7.271</td> <td> 0.000</td> <td>   -0.049</td> <td>   -0.028</td>\n",
       "</tr>\n",
       "<tr>\n",
       "  <th>structure</th>       <td>   -0.0133</td> <td>    0.005</td> <td>   -2.853</td> <td> 0.004</td> <td>   -0.022</td> <td>   -0.004</td>\n",
       "</tr>\n",
       "<tr>\n",
       "  <th>length</th>          <td>   -0.0303</td> <td>    0.005</td> <td>   -6.188</td> <td> 0.000</td> <td>   -0.040</td> <td>   -0.021</td>\n",
       "</tr>\n",
       "<tr>\n",
       "  <th>appearance</th>      <td>    0.0064</td> <td>    0.001</td> <td>    6.452</td> <td> 0.000</td> <td>    0.004</td> <td>    0.008</td>\n",
       "</tr>\n",
       "<tr>\n",
       "  <th>aroma</th>           <td>   -0.0197</td> <td>    0.007</td> <td>   -2.949</td> <td> 0.003</td> <td>   -0.033</td> <td>   -0.007</td>\n",
       "</tr>\n",
       "<tr>\n",
       "  <th>mouthfeel</th>       <td>   -0.0017</td> <td>    0.006</td> <td>   -0.265</td> <td> 0.791</td> <td>   -0.014</td> <td>    0.011</td>\n",
       "</tr>\n",
       "<tr>\n",
       "  <th>flavor</th>          <td>    0.0030</td> <td>    0.003</td> <td>    0.889</td> <td> 0.374</td> <td>   -0.004</td> <td>    0.010</td>\n",
       "</tr>\n",
       "<tr>\n",
       "  <th>quality</th>         <td>    0.0181</td> <td>    0.001</td> <td>   12.050</td> <td> 0.000</td> <td>    0.015</td> <td>    0.021</td>\n",
       "</tr>\n",
       "<tr>\n",
       "  <th>aroma_struct</th>    <td>    0.0002</td> <td> 5.86e-05</td> <td>    3.848</td> <td> 0.000</td> <td>    0.000</td> <td>    0.000</td>\n",
       "</tr>\n",
       "<tr>\n",
       "  <th>aroma_mouthfeel</th> <td>    0.0003</td> <td> 8.58e-05</td> <td>    3.162</td> <td> 0.002</td> <td>    0.000</td> <td>    0.000</td>\n",
       "</tr>\n",
       "<tr>\n",
       "  <th>flavor_length</th>   <td>    0.0004</td> <td> 6.02e-05</td> <td>    6.127</td> <td> 0.000</td> <td>    0.000</td> <td>    0.000</td>\n",
       "</tr>\n",
       "<tr>\n",
       "  <th>flavor_compl</th>    <td>    0.0005</td> <td> 6.08e-05</td> <td>    8.017</td> <td> 0.000</td> <td>    0.000</td> <td>    0.001</td>\n",
       "</tr>\n",
       "<tr>\n",
       "  <th>log_cocoa_perc</th>  <td>   -0.0162</td> <td>    0.030</td> <td>   -0.546</td> <td> 0.585</td> <td>   -0.074</td> <td>    0.042</td>\n",
       "</tr>\n",
       "</table>\n",
       "<table class=\"simpletable\">\n",
       "<tr>\n",
       "  <th>Omnibus:</th>       <td>1060.522</td> <th>  Durbin-Watson:     </th>  <td>   2.153</td> \n",
       "</tr>\n",
       "<tr>\n",
       "  <th>Prob(Omnibus):</th>  <td> 0.000</td>  <th>  Jarque-Bera (JB):  </th> <td>154481.289</td>\n",
       "</tr>\n",
       "<tr>\n",
       "  <th>Skew:</th>           <td>-4.027</td>  <th>  Prob(JB):          </th>  <td>    0.00</td> \n",
       "</tr>\n",
       "<tr>\n",
       "  <th>Kurtosis:</th>       <td>60.655</td>  <th>  Cond. No.          </th>  <td>4.64e+05</td> \n",
       "</tr>\n",
       "</table><br/><br/>Warnings:<br/>[1] Standard Errors assume that the covariance matrix of the errors is correctly specified.<br/>[2] The condition number is large, 4.64e+05. This might indicate that there are<br/>strong multicollinearity or other numerical problems."
      ],
      "text/plain": [
       "<class 'statsmodels.iolib.summary.Summary'>\n",
       "\"\"\"\n",
       "                            OLS Regression Results                            \n",
       "==============================================================================\n",
       "Dep. Variable:                 rating   R-squared:                       0.879\n",
       "Model:                            OLS   Adj. R-squared:                  0.877\n",
       "Method:                 Least Squares   F-statistic:                     410.5\n",
       "Date:                Sun, 21 Apr 2019   Prob (F-statistic):               0.00\n",
       "Time:                        21:50:45   Log-Likelihood:                -549.87\n",
       "No. Observations:                1094   AIC:                             1140.\n",
       "Df Residuals:                    1074   BIC:                             1240.\n",
       "Df Model:                          19                                         \n",
       "Covariance Type:            nonrobust                                         \n",
       "===================================================================================\n",
       "                      coef    std err          t      P>|t|      [0.025      0.975]\n",
       "-----------------------------------------------------------------------------------\n",
       "const               0.2006      0.533      0.377      0.707      -0.845       1.246\n",
       "CQ                  0.0028      0.001      3.942      0.000       0.001       0.004\n",
       "sweetness           0.0013      0.001      1.458      0.145      -0.000       0.003\n",
       "acidity             0.0015      0.001      2.151      0.032       0.000       0.003\n",
       "bitterness          0.0009      0.001      1.037      0.300      -0.001       0.003\n",
       "roast              -0.0003      0.001     -0.390      0.697      -0.002       0.001\n",
       "intensity          -0.0005      0.001     -0.553      0.581      -0.002       0.001\n",
       "complexity         -0.0384      0.005     -7.271      0.000      -0.049      -0.028\n",
       "structure          -0.0133      0.005     -2.853      0.004      -0.022      -0.004\n",
       "length             -0.0303      0.005     -6.188      0.000      -0.040      -0.021\n",
       "appearance          0.0064      0.001      6.452      0.000       0.004       0.008\n",
       "aroma              -0.0197      0.007     -2.949      0.003      -0.033      -0.007\n",
       "mouthfeel          -0.0017      0.006     -0.265      0.791      -0.014       0.011\n",
       "flavor              0.0030      0.003      0.889      0.374      -0.004       0.010\n",
       "quality             0.0181      0.001     12.050      0.000       0.015       0.021\n",
       "aroma_struct        0.0002   5.86e-05      3.848      0.000       0.000       0.000\n",
       "aroma_mouthfeel     0.0003   8.58e-05      3.162      0.002       0.000       0.000\n",
       "flavor_length       0.0004   6.02e-05      6.127      0.000       0.000       0.000\n",
       "flavor_compl        0.0005   6.08e-05      8.017      0.000       0.000       0.001\n",
       "log_cocoa_perc     -0.0162      0.030     -0.546      0.585      -0.074       0.042\n",
       "==============================================================================\n",
       "Omnibus:                     1060.522   Durbin-Watson:                   2.153\n",
       "Prob(Omnibus):                  0.000   Jarque-Bera (JB):           154481.289\n",
       "Skew:                          -4.027   Prob(JB):                         0.00\n",
       "Kurtosis:                      60.655   Cond. No.                     4.64e+05\n",
       "==============================================================================\n",
       "\n",
       "Warnings:\n",
       "[1] Standard Errors assume that the covariance matrix of the errors is correctly specified.\n",
       "[2] The condition number is large, 4.64e+05. This might indicate that there are\n",
       "strong multicollinearity or other numerical problems.\n",
       "\"\"\""
      ]
     },
     "execution_count": 6,
     "metadata": {},
     "output_type": "execute_result"
    }
   ],
   "source": [
    "#model\n",
    "df_sm = sm.add_constant(x_train)\n",
    "results = sm.OLS(y_train, df_sm).fit()\n",
    "results.summary()"
   ]
  },
  {
   "cell_type": "markdown",
   "metadata": {},
   "source": [
    "We drop the following variables because they are not significant as a predictor based on the p-value:\n",
    "- sweetness \n",
    "- bitterness \n",
    "- roast\n",
    "- intensity\n",
    "- mouthfeel\n",
    "- flavor\n",
    "- log_cocoa_perc\n"
   ]
  },
  {
   "cell_type": "code",
   "execution_count": 7,
   "metadata": {},
   "outputs": [],
   "source": [
    "not_sig_cols = ['sweetness', 'bitterness', 'roast', 'intensity', 'mouthfeel', 'flavor', 'log_cocoa_perc']\n",
    "#drop the columns for our train data\n",
    "x_train = x_train.drop(not_sig_cols, axis=1)\n",
    "#drop the columns for our test data\n",
    "x_test = x_test.drop(not_sig_cols, axis=1)"
   ]
  },
  {
   "cell_type": "code",
   "execution_count": 8,
   "metadata": {},
   "outputs": [
    {
     "data": {
      "text/html": [
       "<div>\n",
       "<style scoped>\n",
       "    .dataframe tbody tr th:only-of-type {\n",
       "        vertical-align: middle;\n",
       "    }\n",
       "\n",
       "    .dataframe tbody tr th {\n",
       "        vertical-align: top;\n",
       "    }\n",
       "\n",
       "    .dataframe thead th {\n",
       "        text-align: right;\n",
       "    }\n",
       "</style>\n",
       "<table border=\"1\" class=\"dataframe\">\n",
       "  <thead>\n",
       "    <tr style=\"text-align: right;\">\n",
       "      <th></th>\n",
       "      <th>CQ</th>\n",
       "      <th>acidity</th>\n",
       "      <th>complexity</th>\n",
       "      <th>structure</th>\n",
       "      <th>length</th>\n",
       "      <th>appearance</th>\n",
       "      <th>aroma</th>\n",
       "      <th>quality</th>\n",
       "      <th>aroma_struct</th>\n",
       "      <th>aroma_mouthfeel</th>\n",
       "      <th>flavor_length</th>\n",
       "      <th>flavor_compl</th>\n",
       "    </tr>\n",
       "  </thead>\n",
       "  <tbody>\n",
       "    <tr>\n",
       "      <th>748</th>\n",
       "      <td>28.0</td>\n",
       "      <td>21.0</td>\n",
       "      <td>14.0</td>\n",
       "      <td>27.0</td>\n",
       "      <td>46.0</td>\n",
       "      <td>78.0</td>\n",
       "      <td>81.0</td>\n",
       "      <td>79.5</td>\n",
       "      <td>2187.0</td>\n",
       "      <td>6642.0</td>\n",
       "      <td>3974.4</td>\n",
       "      <td>1209.6</td>\n",
       "    </tr>\n",
       "    <tr>\n",
       "      <th>754</th>\n",
       "      <td>64.0</td>\n",
       "      <td>13.0</td>\n",
       "      <td>22.0</td>\n",
       "      <td>44.0</td>\n",
       "      <td>63.0</td>\n",
       "      <td>74.0</td>\n",
       "      <td>71.0</td>\n",
       "      <td>78.5</td>\n",
       "      <td>3124.0</td>\n",
       "      <td>6106.0</td>\n",
       "      <td>5418.0</td>\n",
       "      <td>1892.0</td>\n",
       "    </tr>\n",
       "    <tr>\n",
       "      <th>1076</th>\n",
       "      <td>53.0</td>\n",
       "      <td>69.0</td>\n",
       "      <td>31.0</td>\n",
       "      <td>52.0</td>\n",
       "      <td>34.0</td>\n",
       "      <td>96.0</td>\n",
       "      <td>64.0</td>\n",
       "      <td>69.5</td>\n",
       "      <td>3328.0</td>\n",
       "      <td>4224.0</td>\n",
       "      <td>2448.0</td>\n",
       "      <td>2232.0</td>\n",
       "    </tr>\n",
       "    <tr>\n",
       "      <th>1351</th>\n",
       "      <td>43.0</td>\n",
       "      <td>24.0</td>\n",
       "      <td>41.0</td>\n",
       "      <td>90.0</td>\n",
       "      <td>78.0</td>\n",
       "      <td>88.0</td>\n",
       "      <td>89.0</td>\n",
       "      <td>93.5</td>\n",
       "      <td>8010.0</td>\n",
       "      <td>8366.0</td>\n",
       "      <td>7144.8</td>\n",
       "      <td>3755.6</td>\n",
       "    </tr>\n",
       "    <tr>\n",
       "      <th>912</th>\n",
       "      <td>32.0</td>\n",
       "      <td>34.0</td>\n",
       "      <td>31.0</td>\n",
       "      <td>64.0</td>\n",
       "      <td>76.0</td>\n",
       "      <td>86.0</td>\n",
       "      <td>81.0</td>\n",
       "      <td>77.5</td>\n",
       "      <td>5184.0</td>\n",
       "      <td>7290.0</td>\n",
       "      <td>6292.8</td>\n",
       "      <td>2566.8</td>\n",
       "    </tr>\n",
       "  </tbody>\n",
       "</table>\n",
       "</div>"
      ],
      "text/plain": [
       "        CQ  acidity  complexity  structure  length  appearance  aroma  \\\n",
       "748   28.0     21.0        14.0       27.0    46.0        78.0   81.0   \n",
       "754   64.0     13.0        22.0       44.0    63.0        74.0   71.0   \n",
       "1076  53.0     69.0        31.0       52.0    34.0        96.0   64.0   \n",
       "1351  43.0     24.0        41.0       90.0    78.0        88.0   89.0   \n",
       "912   32.0     34.0        31.0       64.0    76.0        86.0   81.0   \n",
       "\n",
       "      quality  aroma_struct  aroma_mouthfeel  flavor_length  flavor_compl  \n",
       "748      79.5        2187.0           6642.0         3974.4        1209.6  \n",
       "754      78.5        3124.0           6106.0         5418.0        1892.0  \n",
       "1076     69.5        3328.0           4224.0         2448.0        2232.0  \n",
       "1351     93.5        8010.0           8366.0         7144.8        3755.6  \n",
       "912      77.5        5184.0           7290.0         6292.8        2566.8  "
      ]
     },
     "execution_count": 8,
     "metadata": {},
     "output_type": "execute_result"
    }
   ],
   "source": [
    "x_train.head()"
   ]
  },
  {
   "cell_type": "code",
   "execution_count": 9,
   "metadata": {},
   "outputs": [
    {
     "name": "stdout",
     "output_type": "stream",
     "text": [
      "baseline:  0.8695976604247964\n"
     ]
    }
   ],
   "source": [
    "regression = LinearRegression()\n",
    "crossvalidation = KFold(n_splits=10, shuffle=True, random_state=1)\n",
    "\n",
    "baseline = np.mean(cross_val_score(regression, x_train, y_train, scoring='r2', cv=crossvalidation))\n",
    "print('baseline: ', baseline)"
   ]
  },
  {
   "cell_type": "code",
   "execution_count": 10,
   "metadata": {
    "scrolled": false
   },
   "outputs": [
    {
     "data": {
      "text/html": [
       "<table class=\"simpletable\">\n",
       "<caption>OLS Regression Results</caption>\n",
       "<tr>\n",
       "  <th>Dep. Variable:</th>         <td>rating</td>      <th>  R-squared:         </th> <td>   0.878</td>\n",
       "</tr>\n",
       "<tr>\n",
       "  <th>Model:</th>                   <td>OLS</td>       <th>  Adj. R-squared:    </th> <td>   0.877</td>\n",
       "</tr>\n",
       "<tr>\n",
       "  <th>Method:</th>             <td>Least Squares</td>  <th>  F-statistic:       </th> <td>   651.2</td>\n",
       "</tr>\n",
       "<tr>\n",
       "  <th>Date:</th>             <td>Sun, 21 Apr 2019</td> <th>  Prob (F-statistic):</th>  <td>  0.00</td> \n",
       "</tr>\n",
       "<tr>\n",
       "  <th>Time:</th>                 <td>21:50:45</td>     <th>  Log-Likelihood:    </th> <td> -552.12</td>\n",
       "</tr>\n",
       "<tr>\n",
       "  <th>No. Observations:</th>      <td>  1094</td>      <th>  AIC:               </th> <td>   1130.</td>\n",
       "</tr>\n",
       "<tr>\n",
       "  <th>Df Residuals:</th>          <td>  1081</td>      <th>  BIC:               </th> <td>   1195.</td>\n",
       "</tr>\n",
       "<tr>\n",
       "  <th>Df Model:</th>              <td>    12</td>      <th>                     </th>     <td> </td>   \n",
       "</tr>\n",
       "<tr>\n",
       "  <th>Covariance Type:</th>      <td>nonrobust</td>    <th>                     </th>     <td> </td>   \n",
       "</tr>\n",
       "</table>\n",
       "<table class=\"simpletable\">\n",
       "<tr>\n",
       "         <td></td>            <th>coef</th>     <th>std err</th>      <th>t</th>      <th>P>|t|</th>  <th>[0.025</th>    <th>0.975]</th>  \n",
       "</tr>\n",
       "<tr>\n",
       "  <th>const</th>           <td>    0.2966</td> <td>    0.251</td> <td>    1.181</td> <td> 0.238</td> <td>   -0.196</td> <td>    0.790</td>\n",
       "</tr>\n",
       "<tr>\n",
       "  <th>CQ</th>              <td>    0.0027</td> <td>    0.001</td> <td>    3.985</td> <td> 0.000</td> <td>    0.001</td> <td>    0.004</td>\n",
       "</tr>\n",
       "<tr>\n",
       "  <th>acidity</th>         <td>    0.0015</td> <td>    0.001</td> <td>    2.167</td> <td> 0.030</td> <td>    0.000</td> <td>    0.003</td>\n",
       "</tr>\n",
       "<tr>\n",
       "  <th>complexity</th>      <td>   -0.0404</td> <td>    0.005</td> <td>   -7.965</td> <td> 0.000</td> <td>   -0.050</td> <td>   -0.030</td>\n",
       "</tr>\n",
       "<tr>\n",
       "  <th>structure</th>       <td>   -0.0129</td> <td>    0.004</td> <td>   -2.913</td> <td> 0.004</td> <td>   -0.022</td> <td>   -0.004</td>\n",
       "</tr>\n",
       "<tr>\n",
       "  <th>length</th>          <td>   -0.0331</td> <td>    0.003</td> <td>   -9.623</td> <td> 0.000</td> <td>   -0.040</td> <td>   -0.026</td>\n",
       "</tr>\n",
       "<tr>\n",
       "  <th>appearance</th>      <td>    0.0063</td> <td>    0.001</td> <td>    6.337</td> <td> 0.000</td> <td>    0.004</td> <td>    0.008</td>\n",
       "</tr>\n",
       "<tr>\n",
       "  <th>aroma</th>           <td>   -0.0177</td> <td>    0.003</td> <td>   -5.116</td> <td> 0.000</td> <td>   -0.024</td> <td>   -0.011</td>\n",
       "</tr>\n",
       "<tr>\n",
       "  <th>quality</th>         <td>    0.0185</td> <td>    0.001</td> <td>   12.638</td> <td> 0.000</td> <td>    0.016</td> <td>    0.021</td>\n",
       "</tr>\n",
       "<tr>\n",
       "  <th>aroma_struct</th>    <td>    0.0002</td> <td> 5.54e-05</td> <td>    3.954</td> <td> 0.000</td> <td>    0.000</td> <td>    0.000</td>\n",
       "</tr>\n",
       "<tr>\n",
       "  <th>aroma_mouthfeel</th> <td>    0.0002</td> <td> 1.93e-05</td> <td>   12.884</td> <td> 0.000</td> <td>    0.000</td> <td>    0.000</td>\n",
       "</tr>\n",
       "<tr>\n",
       "  <th>flavor_length</th>   <td>    0.0004</td> <td> 4.13e-05</td> <td>    9.714</td> <td> 0.000</td> <td>    0.000</td> <td>    0.000</td>\n",
       "</tr>\n",
       "<tr>\n",
       "  <th>flavor_compl</th>    <td>    0.0005</td> <td> 5.82e-05</td> <td>    8.772</td> <td> 0.000</td> <td>    0.000</td> <td>    0.001</td>\n",
       "</tr>\n",
       "</table>\n",
       "<table class=\"simpletable\">\n",
       "<tr>\n",
       "  <th>Omnibus:</th>       <td>1074.892</td> <th>  Durbin-Watson:     </th>  <td>   2.137</td> \n",
       "</tr>\n",
       "<tr>\n",
       "  <th>Prob(Omnibus):</th>  <td> 0.000</td>  <th>  Jarque-Bera (JB):  </th> <td>157577.456</td>\n",
       "</tr>\n",
       "<tr>\n",
       "  <th>Skew:</th>           <td>-4.123</td>  <th>  Prob(JB):          </th>  <td>    0.00</td> \n",
       "</tr>\n",
       "<tr>\n",
       "  <th>Kurtosis:</th>       <td>61.214</td>  <th>  Cond. No.          </th>  <td>2.19e+05</td> \n",
       "</tr>\n",
       "</table><br/><br/>Warnings:<br/>[1] Standard Errors assume that the covariance matrix of the errors is correctly specified.<br/>[2] The condition number is large, 2.19e+05. This might indicate that there are<br/>strong multicollinearity or other numerical problems."
      ],
      "text/plain": [
       "<class 'statsmodels.iolib.summary.Summary'>\n",
       "\"\"\"\n",
       "                            OLS Regression Results                            \n",
       "==============================================================================\n",
       "Dep. Variable:                 rating   R-squared:                       0.878\n",
       "Model:                            OLS   Adj. R-squared:                  0.877\n",
       "Method:                 Least Squares   F-statistic:                     651.2\n",
       "Date:                Sun, 21 Apr 2019   Prob (F-statistic):               0.00\n",
       "Time:                        21:50:45   Log-Likelihood:                -552.12\n",
       "No. Observations:                1094   AIC:                             1130.\n",
       "Df Residuals:                    1081   BIC:                             1195.\n",
       "Df Model:                          12                                         \n",
       "Covariance Type:            nonrobust                                         \n",
       "===================================================================================\n",
       "                      coef    std err          t      P>|t|      [0.025      0.975]\n",
       "-----------------------------------------------------------------------------------\n",
       "const               0.2966      0.251      1.181      0.238      -0.196       0.790\n",
       "CQ                  0.0027      0.001      3.985      0.000       0.001       0.004\n",
       "acidity             0.0015      0.001      2.167      0.030       0.000       0.003\n",
       "complexity         -0.0404      0.005     -7.965      0.000      -0.050      -0.030\n",
       "structure          -0.0129      0.004     -2.913      0.004      -0.022      -0.004\n",
       "length             -0.0331      0.003     -9.623      0.000      -0.040      -0.026\n",
       "appearance          0.0063      0.001      6.337      0.000       0.004       0.008\n",
       "aroma              -0.0177      0.003     -5.116      0.000      -0.024      -0.011\n",
       "quality             0.0185      0.001     12.638      0.000       0.016       0.021\n",
       "aroma_struct        0.0002   5.54e-05      3.954      0.000       0.000       0.000\n",
       "aroma_mouthfeel     0.0002   1.93e-05     12.884      0.000       0.000       0.000\n",
       "flavor_length       0.0004   4.13e-05      9.714      0.000       0.000       0.000\n",
       "flavor_compl        0.0005   5.82e-05      8.772      0.000       0.000       0.001\n",
       "==============================================================================\n",
       "Omnibus:                     1074.892   Durbin-Watson:                   2.137\n",
       "Prob(Omnibus):                  0.000   Jarque-Bera (JB):           157577.456\n",
       "Skew:                          -4.123   Prob(JB):                         0.00\n",
       "Kurtosis:                      61.214   Cond. No.                     2.19e+05\n",
       "==============================================================================\n",
       "\n",
       "Warnings:\n",
       "[1] Standard Errors assume that the covariance matrix of the errors is correctly specified.\n",
       "[2] The condition number is large, 2.19e+05. This might indicate that there are\n",
       "strong multicollinearity or other numerical problems.\n",
       "\"\"\""
      ]
     },
     "execution_count": 10,
     "metadata": {},
     "output_type": "execute_result"
    }
   ],
   "source": [
    "#create model\n",
    "df_sm = sm.add_constant(x_train)\n",
    "results = sm.OLS(y_train, df_sm).fit()\n",
    "results.summary()"
   ]
  },
  {
   "cell_type": "markdown",
   "metadata": {},
   "source": [
    "We removed some indignificant variables as predictors towards our target variable, rating, and it has not done anything to move the R^2 value."
   ]
  },
  {
   "cell_type": "markdown",
   "metadata": {},
   "source": [
    "## model our prediction"
   ]
  },
  {
   "cell_type": "code",
   "execution_count": 11,
   "metadata": {},
   "outputs": [],
   "source": [
    "conn = \"+\".join(list(x_train.columns))\n",
    "f = 'rating~' + conn\n",
    "model = ols(formula=f, data=df_train).fit()"
   ]
  },
  {
   "cell_type": "markdown",
   "metadata": {},
   "source": [
    "### see how well our model does"
   ]
  },
  {
   "cell_type": "code",
   "execution_count": 12,
   "metadata": {},
   "outputs": [],
   "source": [
    "#predict using information we know\n",
    "y_pred = model.predict(x_train)"
   ]
  },
  {
   "cell_type": "code",
   "execution_count": 13,
   "metadata": {},
   "outputs": [
    {
     "data": {
      "image/png": "[encoded data removed]",
      "text/plain": [
       "<Figure size 1080x576 with 1 Axes>"
      ]
     },
     "metadata": {
      "needs_background": "light"
     },
     "output_type": "display_data"
    }
   ],
   "source": [
    "#compare with the actual values\n",
    "plt.figure(figsize=(15,8))\n",
    "plt.style.use('ggplot')\n",
    "\n",
    "plt.scatter(y_pred, y_train)\n",
    "plt.xlabel('Model Predicted Ratings', size=20)\n",
    "plt.xticks(size=18)\n",
    "plt.ylabel('Actual Ratings', size=20)\n",
    "plt.yticks(size=18)\n",
    "plt.title('Actual vs. Predicted Ratings Training', size=20)\n",
    "plt.show()"
   ]
  },
  {
   "cell_type": "markdown",
   "metadata": {},
   "source": [
    "There are negative rating prediction values which is clearly wrong. "
   ]
  },
  {
   "cell_type": "code",
   "execution_count": 14,
   "metadata": {},
   "outputs": [
    {
     "data": {
      "text/plain": [
       "0.1606516680244428"
      ]
     },
     "execution_count": 14,
     "metadata": {},
     "output_type": "execute_result"
    }
   ],
   "source": [
    "#get the variance of the two\n",
    "#Mean Squared Error\n",
    "from sklearn.metrics import mean_squared_error\n",
    "mse = mean_squared_error(y_pred, y_train)\n",
    "mse "
   ]
  },
  {
   "cell_type": "code",
   "execution_count": 15,
   "metadata": {},
   "outputs": [
    {
     "data": {
      "text/plain": [
       "0.40081375727941626"
      ]
     },
     "execution_count": 15,
     "metadata": {},
     "output_type": "execute_result"
    }
   ],
   "source": [
    "#Root Mean Squared Error\n",
    "rmse = np.sqrt(mse)\n",
    "rmse "
   ]
  },
  {
   "cell_type": "markdown",
   "metadata": {},
   "source": [
    "test out the testing data"
   ]
  },
  {
   "cell_type": "code",
   "execution_count": 16,
   "metadata": {},
   "outputs": [],
   "source": [
    "y_pred_test = model.predict(x_test)"
   ]
  },
  {
   "cell_type": "code",
   "execution_count": 17,
   "metadata": {},
   "outputs": [
    {
     "data": {
      "image/png": "[encoded data removed]",
      "text/plain": [
       "<Figure size 1080x576 with 1 Axes>"
      ]
     },
     "metadata": {},
     "output_type": "display_data"
    }
   ],
   "source": [
    "#compare with the actual values\n",
    "plt.figure(figsize=(15,8))\n",
    "plt.style.use('seaborn-muted')\n",
    "\n",
    "plt.scatter(y_pred_test, y_test)\n",
    "plt.xlabel('Model Predicted Ratings', size=20)\n",
    "plt.xticks(size=18)\n",
    "plt.ylabel('Actual Ratings', size=20)\n",
    "plt.yticks(size=18)\n",
    "plt.title('Actual vs. Predicted Ratings Test', size=20)\n",
    "plt.show()"
   ]
  },
  {
   "cell_type": "code",
   "execution_count": 18,
   "metadata": {},
   "outputs": [
    {
     "data": {
      "text/plain": [
       "0.1606516680244428"
      ]
     },
     "execution_count": 18,
     "metadata": {},
     "output_type": "execute_result"
    }
   ],
   "source": [
    "#get the variance of the two\n",
    "#Mean Squared Error\n",
    "from sklearn.metrics import mean_squared_error\n",
    "mse = mean_squared_error(y_pred_test, y_test)\n",
    "mse "
   ]
  },
  {
   "cell_type": "code",
   "execution_count": 19,
   "metadata": {},
   "outputs": [
    {
     "data": {
      "text/plain": [
       "0.40081375727941626"
      ]
     },
     "execution_count": 19,
     "metadata": {},
     "output_type": "execute_result"
    }
   ],
   "source": [
    "#Root Mean Squared Error\n",
    "rmse = np.sqrt(mse)\n",
    "rmse "
   ]
  },
  {
   "cell_type": "code",
   "execution_count": null,
   "metadata": {},
   "outputs": [],
   "source": []
  },
  {
   "cell_type": "code",
   "execution_count": null,
   "metadata": {},
   "outputs": [],
   "source": []
  },
  {
   "cell_type": "code",
   "execution_count": null,
   "metadata": {},
   "outputs": [],
   "source": []
  },
  {
   "cell_type": "code",
   "execution_count": null,
   "metadata": {},
   "outputs": [],
   "source": []
  },
  {
   "cell_type": "code",
   "execution_count": null,
   "metadata": {},
   "outputs": [],
   "source": []
  }
 ],
 "metadata": {
  "kernelspec": {
   "display_name": "Python 3",
   "language": "python",
   "name": "python3"
  },
  "language_info": {
   "codemirror_mode": {
    "name": "ipython",
    "version": 3
   },
   "file_extension": ".py",
   "mimetype": "text/x-python",
   "name": "python",
   "nbconvert_exporter": "python",
   "pygments_lexer": "ipython3",
   "version": "3.7.2"
  }
 },
 "nbformat": 4,
 "nbformat_minor": 2
}
