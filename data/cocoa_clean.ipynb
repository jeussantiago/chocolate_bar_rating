{
 "cells": [
  {
   "cell_type": "code",
   "execution_count": 1,
   "metadata": {},
   "outputs": [],
   "source": [
    "import pandas as pd\n",
    "import numpy as np\n",
    "import matplotlib.pyplot as plt"
   ]
  },
  {
   "cell_type": "markdown",
   "metadata": {},
   "source": [
    "## Clean Data"
   ]
  },
  {
   "cell_type": "code",
   "execution_count": 2,
   "metadata": {},
   "outputs": [],
   "source": [
    "data = pd.read_csv('get_data/flavors_of_cacao.csv')"
   ]
  },
  {
   "cell_type": "code",
   "execution_count": 3,
   "metadata": {},
   "outputs": [
    {
     "data": {
      "text/plain": [
       "Index(['Company \\n(Maker-if known)', 'Specific Bean Origin\\nor Bar Name',\n",
       "       'REF', 'Review\\nDate', 'Cocoa\\nPercent', 'Company\\nLocation', 'Rating',\n",
       "       'Bean\\nType', 'Broad Bean\\nOrigin'],\n",
       "      dtype='object')"
      ]
     },
     "execution_count": 3,
     "metadata": {},
     "output_type": "execute_result"
    }
   ],
   "source": [
    "data.columns"
   ]
  },
  {
   "cell_type": "markdown",
   "metadata": {},
   "source": [
    "rename the columns cause its hard to type"
   ]
  },
  {
   "cell_type": "code",
   "execution_count": 4,
   "metadata": {},
   "outputs": [],
   "source": [
    "new_col_names = {\n",
    "    'Company\\xa0\\n(Maker-if known)': 'company_name', #compnay name\n",
    "    'Specific Bean Origin\\nor Bar Name': 'bean_specific_origin', #The specific geo-region of origin for the bar.\n",
    "    'REF': 'REF', #A value linked to when the review was entered in the database. Higher = more recent.\n",
    "    'Review\\nDate': 'review_date', #Date of publication of the review.\n",
    "    'Cocoa\\nPercent': 'cocoa_percent', #Cocoa percentage (darkness) of the chocolate bar being reviewed.\n",
    "    'Company\\nLocation': 'company_location', #Manufacturer base country.\n",
    "    'Rating': 'rating', #Expert rating for the bar.\n",
    "    'Bean\\nType': 'bean_type', #The variety (breed) of bean used, if provided.\n",
    "    'Broad Bean\\nOrigin': 'bean_broad_origin' #The broad geo-region of origin for the bean.\n",
    "}\n",
    "data.rename(columns=new_col_names, inplace=True)"
   ]
  },
  {
   "cell_type": "code",
   "execution_count": 5,
   "metadata": {},
   "outputs": [
    {
     "data": {
      "text/html": [
       "<div>\n",
       "<style scoped>\n",
       "    .dataframe tbody tr th:only-of-type {\n",
       "        vertical-align: middle;\n",
       "    }\n",
       "\n",
       "    .dataframe tbody tr th {\n",
       "        vertical-align: top;\n",
       "    }\n",
       "\n",
       "    .dataframe thead th {\n",
       "        text-align: right;\n",
       "    }\n",
       "</style>\n",
       "<table border=\"1\" class=\"dataframe\">\n",
       "  <thead>\n",
       "    <tr style=\"text-align: right;\">\n",
       "      <th></th>\n",
       "      <th>company_name</th>\n",
       "      <th>bean_specific_origin</th>\n",
       "      <th>REF</th>\n",
       "      <th>review_date</th>\n",
       "      <th>cocoa_percent</th>\n",
       "      <th>company_location</th>\n",
       "      <th>rating</th>\n",
       "      <th>bean_type</th>\n",
       "      <th>bean_broad_origin</th>\n",
       "    </tr>\n",
       "  </thead>\n",
       "  <tbody>\n",
       "    <tr>\n",
       "      <th>0</th>\n",
       "      <td>A. Morin</td>\n",
       "      <td>Agua Grande</td>\n",
       "      <td>1876</td>\n",
       "      <td>2016</td>\n",
       "      <td>63%</td>\n",
       "      <td>France</td>\n",
       "      <td>3.75</td>\n",
       "      <td></td>\n",
       "      <td>Sao Tome</td>\n",
       "    </tr>\n",
       "    <tr>\n",
       "      <th>1</th>\n",
       "      <td>A. Morin</td>\n",
       "      <td>Kpime</td>\n",
       "      <td>1676</td>\n",
       "      <td>2015</td>\n",
       "      <td>70%</td>\n",
       "      <td>France</td>\n",
       "      <td>2.75</td>\n",
       "      <td></td>\n",
       "      <td>Togo</td>\n",
       "    </tr>\n",
       "    <tr>\n",
       "      <th>2</th>\n",
       "      <td>A. Morin</td>\n",
       "      <td>Atsane</td>\n",
       "      <td>1676</td>\n",
       "      <td>2015</td>\n",
       "      <td>70%</td>\n",
       "      <td>France</td>\n",
       "      <td>3.00</td>\n",
       "      <td></td>\n",
       "      <td>Togo</td>\n",
       "    </tr>\n",
       "    <tr>\n",
       "      <th>3</th>\n",
       "      <td>A. Morin</td>\n",
       "      <td>Akata</td>\n",
       "      <td>1680</td>\n",
       "      <td>2015</td>\n",
       "      <td>70%</td>\n",
       "      <td>France</td>\n",
       "      <td>3.50</td>\n",
       "      <td></td>\n",
       "      <td>Togo</td>\n",
       "    </tr>\n",
       "    <tr>\n",
       "      <th>4</th>\n",
       "      <td>A. Morin</td>\n",
       "      <td>Quilla</td>\n",
       "      <td>1704</td>\n",
       "      <td>2015</td>\n",
       "      <td>70%</td>\n",
       "      <td>France</td>\n",
       "      <td>3.50</td>\n",
       "      <td></td>\n",
       "      <td>Peru</td>\n",
       "    </tr>\n",
       "  </tbody>\n",
       "</table>\n",
       "</div>"
      ],
      "text/plain": [
       "  company_name bean_specific_origin   REF  review_date cocoa_percent  \\\n",
       "0     A. Morin          Agua Grande  1876         2016           63%   \n",
       "1     A. Morin                Kpime  1676         2015           70%   \n",
       "2     A. Morin               Atsane  1676         2015           70%   \n",
       "3     A. Morin                Akata  1680         2015           70%   \n",
       "4     A. Morin               Quilla  1704         2015           70%   \n",
       "\n",
       "  company_location  rating bean_type bean_broad_origin  \n",
       "0           France    3.75                    Sao Tome  \n",
       "1           France    2.75                        Togo  \n",
       "2           France    3.00                        Togo  \n",
       "3           France    3.50                        Togo  \n",
       "4           France    3.50                        Peru  "
      ]
     },
     "execution_count": 5,
     "metadata": {},
     "output_type": "execute_result"
    }
   ],
   "source": [
    "data.head()"
   ]
  },
  {
   "cell_type": "code",
   "execution_count": 6,
   "metadata": {},
   "outputs": [
    {
     "data": {
      "text/html": [
       "<div>\n",
       "<style scoped>\n",
       "    .dataframe tbody tr th:only-of-type {\n",
       "        vertical-align: middle;\n",
       "    }\n",
       "\n",
       "    .dataframe tbody tr th {\n",
       "        vertical-align: top;\n",
       "    }\n",
       "\n",
       "    .dataframe thead th {\n",
       "        text-align: right;\n",
       "    }\n",
       "</style>\n",
       "<table border=\"1\" class=\"dataframe\">\n",
       "  <thead>\n",
       "    <tr style=\"text-align: right;\">\n",
       "      <th></th>\n",
       "      <th>REF</th>\n",
       "      <th>review_date</th>\n",
       "      <th>rating</th>\n",
       "    </tr>\n",
       "  </thead>\n",
       "  <tbody>\n",
       "    <tr>\n",
       "      <th>count</th>\n",
       "      <td>1795.000000</td>\n",
       "      <td>1795.000000</td>\n",
       "      <td>1795.000000</td>\n",
       "    </tr>\n",
       "    <tr>\n",
       "      <th>mean</th>\n",
       "      <td>1035.904735</td>\n",
       "      <td>2012.325348</td>\n",
       "      <td>3.185933</td>\n",
       "    </tr>\n",
       "    <tr>\n",
       "      <th>std</th>\n",
       "      <td>552.886365</td>\n",
       "      <td>2.927210</td>\n",
       "      <td>0.478062</td>\n",
       "    </tr>\n",
       "    <tr>\n",
       "      <th>min</th>\n",
       "      <td>5.000000</td>\n",
       "      <td>2006.000000</td>\n",
       "      <td>1.000000</td>\n",
       "    </tr>\n",
       "    <tr>\n",
       "      <th>25%</th>\n",
       "      <td>576.000000</td>\n",
       "      <td>2010.000000</td>\n",
       "      <td>2.875000</td>\n",
       "    </tr>\n",
       "    <tr>\n",
       "      <th>50%</th>\n",
       "      <td>1069.000000</td>\n",
       "      <td>2013.000000</td>\n",
       "      <td>3.250000</td>\n",
       "    </tr>\n",
       "    <tr>\n",
       "      <th>75%</th>\n",
       "      <td>1502.000000</td>\n",
       "      <td>2015.000000</td>\n",
       "      <td>3.500000</td>\n",
       "    </tr>\n",
       "    <tr>\n",
       "      <th>max</th>\n",
       "      <td>1952.000000</td>\n",
       "      <td>2017.000000</td>\n",
       "      <td>5.000000</td>\n",
       "    </tr>\n",
       "  </tbody>\n",
       "</table>\n",
       "</div>"
      ],
      "text/plain": [
       "               REF  review_date       rating\n",
       "count  1795.000000  1795.000000  1795.000000\n",
       "mean   1035.904735  2012.325348     3.185933\n",
       "std     552.886365     2.927210     0.478062\n",
       "min       5.000000  2006.000000     1.000000\n",
       "25%     576.000000  2010.000000     2.875000\n",
       "50%    1069.000000  2013.000000     3.250000\n",
       "75%    1502.000000  2015.000000     3.500000\n",
       "max    1952.000000  2017.000000     5.000000"
      ]
     },
     "execution_count": 6,
     "metadata": {},
     "output_type": "execute_result"
    }
   ],
   "source": [
    "data.describe()"
   ]
  },
  {
   "cell_type": "markdown",
   "metadata": {},
   "source": [
    "check null values"
   ]
  },
  {
   "cell_type": "code",
   "execution_count": 7,
   "metadata": {},
   "outputs": [
    {
     "data": {
      "text/plain": [
       "company_name            0\n",
       "bean_specific_origin    0\n",
       "REF                     0\n",
       "review_date             0\n",
       "cocoa_percent           0\n",
       "company_location        0\n",
       "rating                  0\n",
       "bean_type               1\n",
       "bean_broad_origin       1\n",
       "dtype: int64"
      ]
     },
     "execution_count": 7,
     "metadata": {},
     "output_type": "execute_result"
    }
   ],
   "source": [
    "data.isnull().sum()"
   ]
  },
  {
   "cell_type": "markdown",
   "metadata": {},
   "source": [
    "just drop null rows"
   ]
  },
  {
   "cell_type": "code",
   "execution_count": 8,
   "metadata": {},
   "outputs": [],
   "source": [
    "data.dropna(axis=0, how='any', inplace=True)"
   ]
  },
  {
   "cell_type": "markdown",
   "metadata": {},
   "source": [
    "Remove the percents in the cocoa_percent column and chagne type to numeric"
   ]
  },
  {
   "cell_type": "code",
   "execution_count": 9,
   "metadata": {
    "scrolled": true
   },
   "outputs": [],
   "source": [
    "def perc_to_fl(perc):\n",
    "    return float(perc.strip('%'))\n",
    "\n",
    "data['cocoa_percent'] = data['cocoa_percent'].map(lambda perc: perc_to_fl(perc))"
   ]
  },
  {
   "cell_type": "markdown",
   "metadata": {},
   "source": [
    "check the bean_types"
   ]
  },
  {
   "cell_type": "code",
   "execution_count": 10,
   "metadata": {},
   "outputs": [
    {
     "data": {
      "text/plain": [
       "                            887\n",
       "Trinitario                  418\n",
       "Criollo                     153\n",
       "Forastero                    87\n",
       "Forastero (Nacional)         52\n",
       "Blend                        41\n",
       "Criollo, Trinitario          39\n",
       "Forastero (Arriba)           37\n",
       "Criollo (Porcelana)          10\n",
       "Trinitario, Criollo           9\n",
       "Forastero (Parazinho)         8\n",
       "Forastero (Arriba) ASS        6\n",
       "Beniano                       3\n",
       "EET                           3\n",
       "Nacional (Arriba)             3\n",
       "Matina                        3\n",
       "Trinitario (85% Criollo)      2\n",
       "Nacional                      2\n",
       "Criollo (Ocumare 61)          2\n",
       "Criollo (Amarru)              2\n",
       "Forastero (Catongo)           2\n",
       "Criollo, Forastero            2\n",
       "Trinitario, Forastero         2\n",
       "Amazon mix                    2\n",
       "Amazon, ICS                   2\n",
       "CCN51                         1\n",
       "Trinitario, Nacional          1\n",
       "Criollo (Wild)                1\n",
       "Forastero(Arriba, CCN)        1\n",
       "Criollo (Ocumare)             1\n",
       "Trinitario (Scavina)          1\n",
       "Forastero (Amelonado)         1\n",
       "Forastero (Arriba) ASSS       1\n",
       "Criollo (Ocumare 67)          1\n",
       "Trinitario, TCGA              1\n",
       "Criollo (Ocumare 77)          1\n",
       "Amazon                        1\n",
       "Trinitario (Amelonado)        1\n",
       "Forastero, Trinitario         1\n",
       "Blend-Forastero,Criollo       1\n",
       "Criollo, +                    1\n",
       "Name: bean_type, dtype: int64"
      ]
     },
     "execution_count": 10,
     "metadata": {},
     "output_type": "execute_result"
    }
   ],
   "source": [
    "data['bean_type'].value_counts()"
   ]
  },
  {
   "cell_type": "code",
   "execution_count": 11,
   "metadata": {},
   "outputs": [],
   "source": [
    "#replace the values in the bean_type column\n",
    "def replace_beans(b_type):\n",
    "    #order of criollo, trinitario, and forastero was decided by seeing the number of times it appears\n",
    "    if 'Criollo' in b_type:\n",
    "        return 'Criollo'\n",
    "    elif 'Trinitario' in b_type:\n",
    "        return 'Trinitario'\n",
    "    elif 'Forastero' in b_type:\n",
    "        return 'Forastero'\n",
    "    else:\n",
    "        return b_type\n",
    "    \n",
    "data['bean_type'] = data['bean_type'].map(lambda b_type: replace_beans(b_type))"
   ]
  },
  {
   "cell_type": "code",
   "execution_count": 12,
   "metadata": {},
   "outputs": [
    {
     "data": {
      "text/plain": [
       "                     887\n",
       "Trinitario           425\n",
       "Criollo              225\n",
       "Forastero            195\n",
       "Blend                 41\n",
       "Nacional (Arriba)      3\n",
       "Matina                 3\n",
       "Beniano                3\n",
       "EET                    3\n",
       "Amazon mix             2\n",
       "Nacional               2\n",
       "Amazon, ICS            2\n",
       "Amazon                 1\n",
       "CCN51                  1\n",
       "Name: bean_type, dtype: int64"
      ]
     },
     "execution_count": 12,
     "metadata": {},
     "output_type": "execute_result"
    }
   ],
   "source": [
    "data['bean_type'].value_counts()"
   ]
  },
  {
   "cell_type": "markdown",
   "metadata": {},
   "source": [
    "Those empty spaces aren't nulls, they're strings.<br>"
   ]
  },
  {
   "cell_type": "markdown",
   "metadata": {},
   "source": [
    "check the bean origin"
   ]
  },
  {
   "cell_type": "code",
   "execution_count": 13,
   "metadata": {},
   "outputs": [
    {
     "data": {
      "text/plain": [
       "Venezuela                        214\n",
       "Ecuador                          193\n",
       "Peru                             165\n",
       "Madagascar                       145\n",
       "Dominican Republic               141\n",
       "                                  73\n",
       "Nicaragua                         60\n",
       "Brazil                            58\n",
       "Bolivia                           57\n",
       "Belize                            49\n",
       "Papua New Guinea                  42\n",
       "Colombia                          40\n",
       "Costa Rica                        38\n",
       "Vietnam                           38\n",
       "Tanzania                          34\n",
       "Ghana                             33\n",
       "Trinidad                          33\n",
       "Mexico                            30\n",
       "Guatemala                         28\n",
       "Hawaii                            28\n",
       "Domincan Republic                 25\n",
       "Jamaica                           20\n",
       "Grenada                           19\n",
       "Indonesia                         16\n",
       "Honduras                          15\n",
       "Cuba                              11\n",
       "Congo                             10\n",
       "Sao Tome                          10\n",
       "Haiti                              9\n",
       "Fiji                               8\n",
       "                                ... \n",
       "Peru, Madagascar                   1\n",
       "Gabon                              1\n",
       "Martinique                         1\n",
       "Venezuela, Dom. Rep.               1\n",
       "Venezuela/ Ghana                   1\n",
       "Ven, Trinidad, Ecuador             1\n",
       "Peru(SMartin,Pangoa,nacional)      1\n",
       "Venezuela, Java                    1\n",
       "Ghana & Madagascar                 1\n",
       "Madagascar & Ecuador               1\n",
       "South America, Africa              1\n",
       "Burma                              1\n",
       "Peru, Ecuador, Venezuela           1\n",
       "Carribean(DR/Jam/Tri)              1\n",
       "Venezuela, Trinidad                1\n",
       "PNG, Vanuatu, Mad                  1\n",
       "Cost Rica, Ven                     1\n",
       "Principe                           1\n",
       "Indonesia, Ghana                   1\n",
       "Trinidad-Tobago                    1\n",
       "Venezuela, Ghana                   1\n",
       "Suriname                           1\n",
       "Ecuador, Mad., PNG                 1\n",
       "Peru, Dom. Rep                     1\n",
       "DR, Ecuador, Peru                  1\n",
       "Peru, Belize                       1\n",
       "Ven., Trinidad, Mad.               1\n",
       "Guat., D.R., Peru, Mad., PNG       1\n",
       "Ghana, Panama, Ecuador             1\n",
       "Dominican Rep., Bali               1\n",
       "Name: bean_broad_origin, Length: 99, dtype: int64"
      ]
     },
     "execution_count": 13,
     "metadata": {},
     "output_type": "execute_result"
    }
   ],
   "source": [
    "data['bean_broad_origin'].value_counts()"
   ]
  },
  {
   "cell_type": "markdown",
   "metadata": {},
   "source": [
    "drop the rows with the empty string"
   ]
  },
  {
   "cell_type": "code",
   "execution_count": 14,
   "metadata": {},
   "outputs": [],
   "source": [
    "data.drop(list(data[data['bean_broad_origin'] == '\\xa0'].index), axis=0, inplace=True)"
   ]
  },
  {
   "cell_type": "markdown",
   "metadata": {},
   "source": [
    "Seems good now - Let's section off data to the parts we only need"
   ]
  },
  {
   "cell_type": "code",
   "execution_count": 15,
   "metadata": {},
   "outputs": [
    {
     "data": {
      "text/plain": [
       "(1720, 9)"
      ]
     },
     "execution_count": 15,
     "metadata": {},
     "output_type": "execute_result"
    }
   ],
   "source": [
    "data.shape"
   ]
  },
  {
   "cell_type": "code",
   "execution_count": 16,
   "metadata": {},
   "outputs": [],
   "source": [
    "df_cat = data[['rating', 'cocoa_percent', 'bean_type', 'bean_broad_origin', 'company_name', 'company_location' ]]"
   ]
  },
  {
   "cell_type": "code",
   "execution_count": 17,
   "metadata": {
    "scrolled": true
   },
   "outputs": [
    {
     "data": {
      "text/html": [
       "<div>\n",
       "<style scoped>\n",
       "    .dataframe tbody tr th:only-of-type {\n",
       "        vertical-align: middle;\n",
       "    }\n",
       "\n",
       "    .dataframe tbody tr th {\n",
       "        vertical-align: top;\n",
       "    }\n",
       "\n",
       "    .dataframe thead th {\n",
       "        text-align: right;\n",
       "    }\n",
       "</style>\n",
       "<table border=\"1\" class=\"dataframe\">\n",
       "  <thead>\n",
       "    <tr style=\"text-align: right;\">\n",
       "      <th></th>\n",
       "      <th>rating</th>\n",
       "      <th>cocoa_percent</th>\n",
       "      <th>bean_type</th>\n",
       "      <th>bean_broad_origin</th>\n",
       "      <th>company_name</th>\n",
       "      <th>company_location</th>\n",
       "    </tr>\n",
       "  </thead>\n",
       "  <tbody>\n",
       "    <tr>\n",
       "      <th>0</th>\n",
       "      <td>3.75</td>\n",
       "      <td>63.0</td>\n",
       "      <td></td>\n",
       "      <td>Sao Tome</td>\n",
       "      <td>A. Morin</td>\n",
       "      <td>France</td>\n",
       "    </tr>\n",
       "    <tr>\n",
       "      <th>1</th>\n",
       "      <td>2.75</td>\n",
       "      <td>70.0</td>\n",
       "      <td></td>\n",
       "      <td>Togo</td>\n",
       "      <td>A. Morin</td>\n",
       "      <td>France</td>\n",
       "    </tr>\n",
       "    <tr>\n",
       "      <th>2</th>\n",
       "      <td>3.00</td>\n",
       "      <td>70.0</td>\n",
       "      <td></td>\n",
       "      <td>Togo</td>\n",
       "      <td>A. Morin</td>\n",
       "      <td>France</td>\n",
       "    </tr>\n",
       "    <tr>\n",
       "      <th>3</th>\n",
       "      <td>3.50</td>\n",
       "      <td>70.0</td>\n",
       "      <td></td>\n",
       "      <td>Togo</td>\n",
       "      <td>A. Morin</td>\n",
       "      <td>France</td>\n",
       "    </tr>\n",
       "    <tr>\n",
       "      <th>4</th>\n",
       "      <td>3.50</td>\n",
       "      <td>70.0</td>\n",
       "      <td></td>\n",
       "      <td>Peru</td>\n",
       "      <td>A. Morin</td>\n",
       "      <td>France</td>\n",
       "    </tr>\n",
       "  </tbody>\n",
       "</table>\n",
       "</div>"
      ],
      "text/plain": [
       "   rating  cocoa_percent bean_type bean_broad_origin company_name  \\\n",
       "0    3.75           63.0                    Sao Tome     A. Morin   \n",
       "1    2.75           70.0                        Togo     A. Morin   \n",
       "2    3.00           70.0                        Togo     A. Morin   \n",
       "3    3.50           70.0                        Togo     A. Morin   \n",
       "4    3.50           70.0                        Peru     A. Morin   \n",
       "\n",
       "  company_location  \n",
       "0           France  \n",
       "1           France  \n",
       "2           France  \n",
       "3           France  \n",
       "4           France  "
      ]
     },
     "execution_count": 17,
     "metadata": {},
     "output_type": "execute_result"
    }
   ],
   "source": [
    "df_cat.head()"
   ]
  },
  {
   "cell_type": "code",
   "execution_count": 18,
   "metadata": {},
   "outputs": [],
   "source": [
    "#turn to csv\n",
    "#df_cat.to_csv('clean_flavors_of_cacao.csv', index=False)"
   ]
  },
  {
   "cell_type": "code",
   "execution_count": null,
   "metadata": {},
   "outputs": [],
   "source": []
  },
  {
   "cell_type": "code",
   "execution_count": null,
   "metadata": {},
   "outputs": [],
   "source": []
  },
  {
   "cell_type": "code",
   "execution_count": null,
   "metadata": {},
   "outputs": [],
   "source": []
  },
  {
   "cell_type": "code",
   "execution_count": null,
   "metadata": {},
   "outputs": [],
   "source": []
  },
  {
   "cell_type": "markdown",
   "metadata": {},
   "source": [
    "## Clean Other Data"
   ]
  },
  {
   "cell_type": "code",
   "execution_count": 19,
   "metadata": {},
   "outputs": [],
   "source": [
    "df = pd.read_csv('get_data/choco_rating_dataset.csv')"
   ]
  },
  {
   "cell_type": "code",
   "execution_count": 20,
   "metadata": {},
   "outputs": [
    {
     "data": {
      "text/html": [
       "<div>\n",
       "<style scoped>\n",
       "    .dataframe tbody tr th:only-of-type {\n",
       "        vertical-align: middle;\n",
       "    }\n",
       "\n",
       "    .dataframe tbody tr th {\n",
       "        vertical-align: top;\n",
       "    }\n",
       "\n",
       "    .dataframe thead th {\n",
       "        text-align: right;\n",
       "    }\n",
       "</style>\n",
       "<table border=\"1\" class=\"dataframe\">\n",
       "  <thead>\n",
       "    <tr style=\"text-align: right;\">\n",
       "      <th></th>\n",
       "      <th>choco_bar_name</th>\n",
       "      <th>company_name</th>\n",
       "      <th>rating</th>\n",
       "      <th>comapany_loc</th>\n",
       "      <th>cocoa_perc</th>\n",
       "      <th>bean_type</th>\n",
       "      <th>bean_origin</th>\n",
       "      <th>company_flavor</th>\n",
       "      <th>CQ</th>\n",
       "      <th>sweetness</th>\n",
       "      <th>...</th>\n",
       "      <th>roast</th>\n",
       "      <th>intensity</th>\n",
       "      <th>complexity</th>\n",
       "      <th>structure</th>\n",
       "      <th>length</th>\n",
       "      <th>appearance</th>\n",
       "      <th>aroma</th>\n",
       "      <th>mouthfeel</th>\n",
       "      <th>flavor</th>\n",
       "      <th>quality</th>\n",
       "    </tr>\n",
       "  </thead>\n",
       "  <tbody>\n",
       "    <tr>\n",
       "      <th>0</th>\n",
       "      <td>Nib Brittle</td>\n",
       "      <td>Theo</td>\n",
       "      <td>2.5</td>\n",
       "      <td>USA</td>\n",
       "      <td>65.0</td>\n",
       "      <td>Hybrid</td>\n",
       "      <td>Madagascar</td>\n",
       "      <td>Earthen</td>\n",
       "      <td>57.0</td>\n",
       "      <td>55.0</td>\n",
       "      <td>...</td>\n",
       "      <td>62.0</td>\n",
       "      <td>51.0</td>\n",
       "      <td>43.0</td>\n",
       "      <td>41.0</td>\n",
       "      <td>29.0</td>\n",
       "      <td>74.0</td>\n",
       "      <td>72.0</td>\n",
       "      <td>72.0</td>\n",
       "      <td>81.4</td>\n",
       "      <td>83.0</td>\n",
       "    </tr>\n",
       "    <tr>\n",
       "      <th>1</th>\n",
       "      <td>Vanilla Milk Choc</td>\n",
       "      <td>Theo</td>\n",
       "      <td>4.0</td>\n",
       "      <td>USA</td>\n",
       "      <td>NaN</td>\n",
       "      <td>Blend</td>\n",
       "      <td>NaN</td>\n",
       "      <td>Earthen</td>\n",
       "      <td>77.0</td>\n",
       "      <td>80.0</td>\n",
       "      <td>...</td>\n",
       "      <td>62.0</td>\n",
       "      <td>28.0</td>\n",
       "      <td>46.0</td>\n",
       "      <td>81.0</td>\n",
       "      <td>34.0</td>\n",
       "      <td>100.0</td>\n",
       "      <td>89.0</td>\n",
       "      <td>92.0</td>\n",
       "      <td>89.0</td>\n",
       "      <td>87.0</td>\n",
       "    </tr>\n",
       "    <tr>\n",
       "      <th>2</th>\n",
       "      <td>Ivory Coast</td>\n",
       "      <td>Theo</td>\n",
       "      <td>4.0</td>\n",
       "      <td>USA</td>\n",
       "      <td>75.0</td>\n",
       "      <td>Amazon</td>\n",
       "      <td>Ivory Coast</td>\n",
       "      <td>Earthen</td>\n",
       "      <td>53.0</td>\n",
       "      <td>42.0</td>\n",
       "      <td>...</td>\n",
       "      <td>71.0</td>\n",
       "      <td>37.0</td>\n",
       "      <td>36.0</td>\n",
       "      <td>80.0</td>\n",
       "      <td>82.0</td>\n",
       "      <td>92.0</td>\n",
       "      <td>82.0</td>\n",
       "      <td>85.3</td>\n",
       "      <td>88.4</td>\n",
       "      <td>86.5</td>\n",
       "    </tr>\n",
       "    <tr>\n",
       "      <th>3</th>\n",
       "      <td>Ghana-Panama-Ecuador</td>\n",
       "      <td>Theo</td>\n",
       "      <td>3.5</td>\n",
       "      <td>USA</td>\n",
       "      <td>75.0</td>\n",
       "      <td>Blend</td>\n",
       "      <td>(Ghana [Kumasi]; Panama [Bocas del Toro]; Ecua...</td>\n",
       "      <td>Crossover</td>\n",
       "      <td>44.0</td>\n",
       "      <td>48.0</td>\n",
       "      <td>...</td>\n",
       "      <td>63.0</td>\n",
       "      <td>45.0</td>\n",
       "      <td>52.0</td>\n",
       "      <td>39.0</td>\n",
       "      <td>81.0</td>\n",
       "      <td>100.0</td>\n",
       "      <td>80.0</td>\n",
       "      <td>82.0</td>\n",
       "      <td>86.4</td>\n",
       "      <td>87.0</td>\n",
       "    </tr>\n",
       "    <tr>\n",
       "      <th>4</th>\n",
       "      <td>Mad 65</td>\n",
       "      <td>Theo</td>\n",
       "      <td>4.0</td>\n",
       "      <td>USA</td>\n",
       "      <td>65.0</td>\n",
       "      <td>Criollo</td>\n",
       "      <td>Madagascar</td>\n",
       "      <td>Fruits</td>\n",
       "      <td>60.0</td>\n",
       "      <td>56.0</td>\n",
       "      <td>...</td>\n",
       "      <td>68.0</td>\n",
       "      <td>64.0</td>\n",
       "      <td>62.0</td>\n",
       "      <td>83.0</td>\n",
       "      <td>51.0</td>\n",
       "      <td>100.0</td>\n",
       "      <td>73.0</td>\n",
       "      <td>90.7</td>\n",
       "      <td>89.0</td>\n",
       "      <td>90.0</td>\n",
       "    </tr>\n",
       "  </tbody>\n",
       "</table>\n",
       "<p>5 rows × 22 columns</p>\n",
       "</div>"
      ],
      "text/plain": [
       "         choco_bar_name company_name  rating comapany_loc  cocoa_perc  \\\n",
       "0           Nib Brittle         Theo     2.5          USA        65.0   \n",
       "1     Vanilla Milk Choc         Theo     4.0          USA         NaN   \n",
       "2           Ivory Coast         Theo     4.0          USA        75.0   \n",
       "3  Ghana-Panama-Ecuador         Theo     3.5          USA        75.0   \n",
       "4                Mad 65         Theo     4.0          USA        65.0   \n",
       "\n",
       "  bean_type                                        bean_origin company_flavor  \\\n",
       "0    Hybrid                                         Madagascar        Earthen   \n",
       "1     Blend                                                NaN        Earthen   \n",
       "2    Amazon                                        Ivory Coast        Earthen   \n",
       "3     Blend  (Ghana [Kumasi]; Panama [Bocas del Toro]; Ecua...      Crossover   \n",
       "4   Criollo                                         Madagascar         Fruits   \n",
       "\n",
       "     CQ  sweetness  ...  roast  intensity  complexity  structure  length  \\\n",
       "0  57.0       55.0  ...   62.0       51.0        43.0       41.0    29.0   \n",
       "1  77.0       80.0  ...   62.0       28.0        46.0       81.0    34.0   \n",
       "2  53.0       42.0  ...   71.0       37.0        36.0       80.0    82.0   \n",
       "3  44.0       48.0  ...   63.0       45.0        52.0       39.0    81.0   \n",
       "4  60.0       56.0  ...   68.0       64.0        62.0       83.0    51.0   \n",
       "\n",
       "   appearance  aroma  mouthfeel  flavor  quality  \n",
       "0        74.0   72.0       72.0    81.4     83.0  \n",
       "1       100.0   89.0       92.0    89.0     87.0  \n",
       "2        92.0   82.0       85.3    88.4     86.5  \n",
       "3       100.0   80.0       82.0    86.4     87.0  \n",
       "4       100.0   73.0       90.7    89.0     90.0  \n",
       "\n",
       "[5 rows x 22 columns]"
      ]
     },
     "execution_count": 20,
     "metadata": {},
     "output_type": "execute_result"
    }
   ],
   "source": [
    "df.head()"
   ]
  },
  {
   "cell_type": "code",
   "execution_count": 21,
   "metadata": {
    "scrolled": true
   },
   "outputs": [
    {
     "data": {
      "text/plain": [
       "Index(['choco_bar_name', 'company_name', 'rating', 'comapany_loc',\n",
       "       'cocoa_perc', 'bean_type', 'bean_origin', 'company_flavor', 'CQ',\n",
       "       'sweetness', 'acidity', 'bitterness', 'roast', 'intensity',\n",
       "       'complexity', 'structure', 'length', 'appearance', 'aroma', 'mouthfeel',\n",
       "       'flavor', 'quality'],\n",
       "      dtype='object')"
      ]
     },
     "execution_count": 21,
     "metadata": {},
     "output_type": "execute_result"
    }
   ],
   "source": [
    "df.columns"
   ]
  },
  {
   "cell_type": "code",
   "execution_count": 22,
   "metadata": {},
   "outputs": [],
   "source": [
    "#there is a mispelling in one of the column names\n",
    "df.rename({'comapany_loc': 'company_loc'}, axis=1, inplace=True)"
   ]
  },
  {
   "cell_type": "code",
   "execution_count": 23,
   "metadata": {},
   "outputs": [
    {
     "data": {
      "text/html": [
       "<div>\n",
       "<style scoped>\n",
       "    .dataframe tbody tr th:only-of-type {\n",
       "        vertical-align: middle;\n",
       "    }\n",
       "\n",
       "    .dataframe tbody tr th {\n",
       "        vertical-align: top;\n",
       "    }\n",
       "\n",
       "    .dataframe thead th {\n",
       "        text-align: right;\n",
       "    }\n",
       "</style>\n",
       "<table border=\"1\" class=\"dataframe\">\n",
       "  <thead>\n",
       "    <tr style=\"text-align: right;\">\n",
       "      <th></th>\n",
       "      <th>choco_bar_name</th>\n",
       "      <th>company_name</th>\n",
       "      <th>company_loc</th>\n",
       "      <th>rating</th>\n",
       "      <th>cocoa_perc</th>\n",
       "      <th>CQ</th>\n",
       "      <th>sweetness</th>\n",
       "      <th>acidity</th>\n",
       "      <th>bitterness</th>\n",
       "      <th>roast</th>\n",
       "      <th>intensity</th>\n",
       "      <th>complexity</th>\n",
       "      <th>structure</th>\n",
       "      <th>length</th>\n",
       "      <th>appearance</th>\n",
       "      <th>aroma</th>\n",
       "      <th>mouthfeel</th>\n",
       "      <th>flavor</th>\n",
       "      <th>quality</th>\n",
       "    </tr>\n",
       "  </thead>\n",
       "  <tbody>\n",
       "    <tr>\n",
       "      <th>0</th>\n",
       "      <td>Nib Brittle</td>\n",
       "      <td>Theo</td>\n",
       "      <td>USA</td>\n",
       "      <td>2.5</td>\n",
       "      <td>65.0</td>\n",
       "      <td>57.0</td>\n",
       "      <td>55.0</td>\n",
       "      <td>48.0</td>\n",
       "      <td>37.0</td>\n",
       "      <td>62.0</td>\n",
       "      <td>51.0</td>\n",
       "      <td>43.0</td>\n",
       "      <td>41.0</td>\n",
       "      <td>29.0</td>\n",
       "      <td>74.0</td>\n",
       "      <td>72.0</td>\n",
       "      <td>72.0</td>\n",
       "      <td>81.4</td>\n",
       "      <td>83.0</td>\n",
       "    </tr>\n",
       "    <tr>\n",
       "      <th>1</th>\n",
       "      <td>Vanilla Milk Choc</td>\n",
       "      <td>Theo</td>\n",
       "      <td>USA</td>\n",
       "      <td>4.0</td>\n",
       "      <td>NaN</td>\n",
       "      <td>77.0</td>\n",
       "      <td>80.0</td>\n",
       "      <td>30.0</td>\n",
       "      <td>7.0</td>\n",
       "      <td>62.0</td>\n",
       "      <td>28.0</td>\n",
       "      <td>46.0</td>\n",
       "      <td>81.0</td>\n",
       "      <td>34.0</td>\n",
       "      <td>100.0</td>\n",
       "      <td>89.0</td>\n",
       "      <td>92.0</td>\n",
       "      <td>89.0</td>\n",
       "      <td>87.0</td>\n",
       "    </tr>\n",
       "    <tr>\n",
       "      <th>2</th>\n",
       "      <td>Ivory Coast</td>\n",
       "      <td>Theo</td>\n",
       "      <td>USA</td>\n",
       "      <td>4.0</td>\n",
       "      <td>75.0</td>\n",
       "      <td>53.0</td>\n",
       "      <td>42.0</td>\n",
       "      <td>40.0</td>\n",
       "      <td>49.0</td>\n",
       "      <td>71.0</td>\n",
       "      <td>37.0</td>\n",
       "      <td>36.0</td>\n",
       "      <td>80.0</td>\n",
       "      <td>82.0</td>\n",
       "      <td>92.0</td>\n",
       "      <td>82.0</td>\n",
       "      <td>85.3</td>\n",
       "      <td>88.4</td>\n",
       "      <td>86.5</td>\n",
       "    </tr>\n",
       "    <tr>\n",
       "      <th>3</th>\n",
       "      <td>Ghana-Panama-Ecuador</td>\n",
       "      <td>Theo</td>\n",
       "      <td>USA</td>\n",
       "      <td>3.5</td>\n",
       "      <td>75.0</td>\n",
       "      <td>44.0</td>\n",
       "      <td>48.0</td>\n",
       "      <td>76.0</td>\n",
       "      <td>50.0</td>\n",
       "      <td>63.0</td>\n",
       "      <td>45.0</td>\n",
       "      <td>52.0</td>\n",
       "      <td>39.0</td>\n",
       "      <td>81.0</td>\n",
       "      <td>100.0</td>\n",
       "      <td>80.0</td>\n",
       "      <td>82.0</td>\n",
       "      <td>86.4</td>\n",
       "      <td>87.0</td>\n",
       "    </tr>\n",
       "    <tr>\n",
       "      <th>4</th>\n",
       "      <td>Mad 65</td>\n",
       "      <td>Theo</td>\n",
       "      <td>USA</td>\n",
       "      <td>4.0</td>\n",
       "      <td>65.0</td>\n",
       "      <td>60.0</td>\n",
       "      <td>56.0</td>\n",
       "      <td>76.0</td>\n",
       "      <td>20.0</td>\n",
       "      <td>68.0</td>\n",
       "      <td>64.0</td>\n",
       "      <td>62.0</td>\n",
       "      <td>83.0</td>\n",
       "      <td>51.0</td>\n",
       "      <td>100.0</td>\n",
       "      <td>73.0</td>\n",
       "      <td>90.7</td>\n",
       "      <td>89.0</td>\n",
       "      <td>90.0</td>\n",
       "    </tr>\n",
       "  </tbody>\n",
       "</table>\n",
       "</div>"
      ],
      "text/plain": [
       "         choco_bar_name company_name company_loc  rating  cocoa_perc    CQ  \\\n",
       "0           Nib Brittle         Theo         USA     2.5        65.0  57.0   \n",
       "1     Vanilla Milk Choc         Theo         USA     4.0         NaN  77.0   \n",
       "2           Ivory Coast         Theo         USA     4.0        75.0  53.0   \n",
       "3  Ghana-Panama-Ecuador         Theo         USA     3.5        75.0  44.0   \n",
       "4                Mad 65         Theo         USA     4.0        65.0  60.0   \n",
       "\n",
       "   sweetness  acidity  bitterness  roast  intensity  complexity  structure  \\\n",
       "0       55.0     48.0        37.0   62.0       51.0        43.0       41.0   \n",
       "1       80.0     30.0         7.0   62.0       28.0        46.0       81.0   \n",
       "2       42.0     40.0        49.0   71.0       37.0        36.0       80.0   \n",
       "3       48.0     76.0        50.0   63.0       45.0        52.0       39.0   \n",
       "4       56.0     76.0        20.0   68.0       64.0        62.0       83.0   \n",
       "\n",
       "   length  appearance  aroma  mouthfeel  flavor  quality  \n",
       "0    29.0        74.0   72.0       72.0    81.4     83.0  \n",
       "1    34.0       100.0   89.0       92.0    89.0     87.0  \n",
       "2    82.0        92.0   82.0       85.3    88.4     86.5  \n",
       "3    81.0       100.0   80.0       82.0    86.4     87.0  \n",
       "4    51.0       100.0   73.0       90.7    89.0     90.0  "
      ]
     },
     "execution_count": 23,
     "metadata": {},
     "output_type": "execute_result"
    }
   ],
   "source": [
    "#seperate columns we want \n",
    "df_num = df[['choco_bar_name', 'company_name', 'company_loc', 'rating','cocoa_perc', 'CQ', 'sweetness', \n",
    "             'acidity','bitterness', 'roast', 'intensity', 'complexity', 'structure', 'length', \n",
    "             'appearance', 'aroma', 'mouthfeel', 'flavor', 'quality']]\n",
    "df_num.head()"
   ]
  },
  {
   "cell_type": "code",
   "execution_count": 24,
   "metadata": {},
   "outputs": [
    {
     "data": {
      "text/html": [
       "<div>\n",
       "<style scoped>\n",
       "    .dataframe tbody tr th:only-of-type {\n",
       "        vertical-align: middle;\n",
       "    }\n",
       "\n",
       "    .dataframe tbody tr th {\n",
       "        vertical-align: top;\n",
       "    }\n",
       "\n",
       "    .dataframe thead th {\n",
       "        text-align: right;\n",
       "    }\n",
       "</style>\n",
       "<table border=\"1\" class=\"dataframe\">\n",
       "  <thead>\n",
       "    <tr style=\"text-align: right;\">\n",
       "      <th></th>\n",
       "      <th>rating</th>\n",
       "      <th>cocoa_perc</th>\n",
       "      <th>CQ</th>\n",
       "      <th>sweetness</th>\n",
       "      <th>acidity</th>\n",
       "      <th>bitterness</th>\n",
       "      <th>roast</th>\n",
       "      <th>intensity</th>\n",
       "      <th>complexity</th>\n",
       "      <th>structure</th>\n",
       "      <th>length</th>\n",
       "      <th>appearance</th>\n",
       "      <th>aroma</th>\n",
       "      <th>mouthfeel</th>\n",
       "      <th>flavor</th>\n",
       "      <th>quality</th>\n",
       "    </tr>\n",
       "  </thead>\n",
       "  <tbody>\n",
       "    <tr>\n",
       "      <th>count</th>\n",
       "      <td>1570.000000</td>\n",
       "      <td>1374.000000</td>\n",
       "      <td>1570.000000</td>\n",
       "      <td>1570.000000</td>\n",
       "      <td>1570.000000</td>\n",
       "      <td>1570.000000</td>\n",
       "      <td>1570.000000</td>\n",
       "      <td>1570.000000</td>\n",
       "      <td>1570.000000</td>\n",
       "      <td>1570.000000</td>\n",
       "      <td>1570.000000</td>\n",
       "      <td>1570.000000</td>\n",
       "      <td>1570.000000</td>\n",
       "      <td>1570.000000</td>\n",
       "      <td>1570.000000</td>\n",
       "      <td>1570.000000</td>\n",
       "    </tr>\n",
       "    <tr>\n",
       "      <th>mean</th>\n",
       "      <td>3.018471</td>\n",
       "      <td>66.821179</td>\n",
       "      <td>45.935987</td>\n",
       "      <td>54.559236</td>\n",
       "      <td>40.122293</td>\n",
       "      <td>38.735669</td>\n",
       "      <td>60.696624</td>\n",
       "      <td>59.068153</td>\n",
       "      <td>46.925796</td>\n",
       "      <td>57.303121</td>\n",
       "      <td>64.878344</td>\n",
       "      <td>82.942675</td>\n",
       "      <td>77.460510</td>\n",
       "      <td>79.981783</td>\n",
       "      <td>81.335860</td>\n",
       "      <td>78.410828</td>\n",
       "    </tr>\n",
       "    <tr>\n",
       "      <th>std</th>\n",
       "      <td>1.179132</td>\n",
       "      <td>15.296827</td>\n",
       "      <td>21.293000</td>\n",
       "      <td>19.017435</td>\n",
       "      <td>21.430406</td>\n",
       "      <td>20.416119</td>\n",
       "      <td>17.853654</td>\n",
       "      <td>18.693559</td>\n",
       "      <td>21.118857</td>\n",
       "      <td>21.211648</td>\n",
       "      <td>14.701616</td>\n",
       "      <td>13.881701</td>\n",
       "      <td>12.013007</td>\n",
       "      <td>10.640359</td>\n",
       "      <td>13.252829</td>\n",
       "      <td>16.040808</td>\n",
       "    </tr>\n",
       "    <tr>\n",
       "      <th>min</th>\n",
       "      <td>0.000000</td>\n",
       "      <td>0.500000</td>\n",
       "      <td>0.000000</td>\n",
       "      <td>0.000000</td>\n",
       "      <td>0.000000</td>\n",
       "      <td>0.000000</td>\n",
       "      <td>0.000000</td>\n",
       "      <td>0.000000</td>\n",
       "      <td>0.000000</td>\n",
       "      <td>0.000000</td>\n",
       "      <td>0.000000</td>\n",
       "      <td>14.000000</td>\n",
       "      <td>10.000000</td>\n",
       "      <td>27.300000</td>\n",
       "      <td>8.000000</td>\n",
       "      <td>5.000000</td>\n",
       "    </tr>\n",
       "    <tr>\n",
       "      <th>25%</th>\n",
       "      <td>2.500000</td>\n",
       "      <td>62.000000</td>\n",
       "      <td>31.000000</td>\n",
       "      <td>41.000000</td>\n",
       "      <td>23.000000</td>\n",
       "      <td>24.000000</td>\n",
       "      <td>52.000000</td>\n",
       "      <td>48.000000</td>\n",
       "      <td>31.000000</td>\n",
       "      <td>42.000000</td>\n",
       "      <td>56.000000</td>\n",
       "      <td>76.000000</td>\n",
       "      <td>71.000000</td>\n",
       "      <td>76.000000</td>\n",
       "      <td>76.600000</td>\n",
       "      <td>74.000000</td>\n",
       "    </tr>\n",
       "    <tr>\n",
       "      <th>50%</th>\n",
       "      <td>3.000000</td>\n",
       "      <td>70.000000</td>\n",
       "      <td>44.000000</td>\n",
       "      <td>53.000000</td>\n",
       "      <td>37.000000</td>\n",
       "      <td>36.000000</td>\n",
       "      <td>63.000000</td>\n",
       "      <td>61.000000</td>\n",
       "      <td>46.000000</td>\n",
       "      <td>60.000000</td>\n",
       "      <td>67.000000</td>\n",
       "      <td>86.000000</td>\n",
       "      <td>79.000000</td>\n",
       "      <td>81.300000</td>\n",
       "      <td>85.600000</td>\n",
       "      <td>82.000000</td>\n",
       "    </tr>\n",
       "    <tr>\n",
       "      <th>75%</th>\n",
       "      <td>4.000000</td>\n",
       "      <td>75.000000</td>\n",
       "      <td>62.000000</td>\n",
       "      <td>69.000000</td>\n",
       "      <td>53.000000</td>\n",
       "      <td>51.000000</td>\n",
       "      <td>74.000000</td>\n",
       "      <td>73.000000</td>\n",
       "      <td>62.000000</td>\n",
       "      <td>76.000000</td>\n",
       "      <td>76.000000</td>\n",
       "      <td>94.000000</td>\n",
       "      <td>86.000000</td>\n",
       "      <td>86.700000</td>\n",
       "      <td>90.000000</td>\n",
       "      <td>89.000000</td>\n",
       "    </tr>\n",
       "    <tr>\n",
       "      <th>max</th>\n",
       "      <td>5.000000</td>\n",
       "      <td>100.000000</td>\n",
       "      <td>96.000000</td>\n",
       "      <td>98.000000</td>\n",
       "      <td>98.000000</td>\n",
       "      <td>94.000000</td>\n",
       "      <td>99.000000</td>\n",
       "      <td>99.000000</td>\n",
       "      <td>96.000000</td>\n",
       "      <td>98.000000</td>\n",
       "      <td>99.000000</td>\n",
       "      <td>120.000000</td>\n",
       "      <td>98.000000</td>\n",
       "      <td>106.700000</td>\n",
       "      <td>98.200000</td>\n",
       "      <td>99.500000</td>\n",
       "    </tr>\n",
       "  </tbody>\n",
       "</table>\n",
       "</div>"
      ],
      "text/plain": [
       "            rating   cocoa_perc           CQ    sweetness      acidity  \\\n",
       "count  1570.000000  1374.000000  1570.000000  1570.000000  1570.000000   \n",
       "mean      3.018471    66.821179    45.935987    54.559236    40.122293   \n",
       "std       1.179132    15.296827    21.293000    19.017435    21.430406   \n",
       "min       0.000000     0.500000     0.000000     0.000000     0.000000   \n",
       "25%       2.500000    62.000000    31.000000    41.000000    23.000000   \n",
       "50%       3.000000    70.000000    44.000000    53.000000    37.000000   \n",
       "75%       4.000000    75.000000    62.000000    69.000000    53.000000   \n",
       "max       5.000000   100.000000    96.000000    98.000000    98.000000   \n",
       "\n",
       "        bitterness        roast    intensity   complexity    structure  \\\n",
       "count  1570.000000  1570.000000  1570.000000  1570.000000  1570.000000   \n",
       "mean     38.735669    60.696624    59.068153    46.925796    57.303121   \n",
       "std      20.416119    17.853654    18.693559    21.118857    21.211648   \n",
       "min       0.000000     0.000000     0.000000     0.000000     0.000000   \n",
       "25%      24.000000    52.000000    48.000000    31.000000    42.000000   \n",
       "50%      36.000000    63.000000    61.000000    46.000000    60.000000   \n",
       "75%      51.000000    74.000000    73.000000    62.000000    76.000000   \n",
       "max      94.000000    99.000000    99.000000    96.000000    98.000000   \n",
       "\n",
       "            length   appearance        aroma    mouthfeel       flavor  \\\n",
       "count  1570.000000  1570.000000  1570.000000  1570.000000  1570.000000   \n",
       "mean     64.878344    82.942675    77.460510    79.981783    81.335860   \n",
       "std      14.701616    13.881701    12.013007    10.640359    13.252829   \n",
       "min       0.000000    14.000000    10.000000    27.300000     8.000000   \n",
       "25%      56.000000    76.000000    71.000000    76.000000    76.600000   \n",
       "50%      67.000000    86.000000    79.000000    81.300000    85.600000   \n",
       "75%      76.000000    94.000000    86.000000    86.700000    90.000000   \n",
       "max      99.000000   120.000000    98.000000   106.700000    98.200000   \n",
       "\n",
       "           quality  \n",
       "count  1570.000000  \n",
       "mean     78.410828  \n",
       "std      16.040808  \n",
       "min       5.000000  \n",
       "25%      74.000000  \n",
       "50%      82.000000  \n",
       "75%      89.000000  \n",
       "max      99.500000  "
      ]
     },
     "execution_count": 24,
     "metadata": {},
     "output_type": "execute_result"
    }
   ],
   "source": [
    "df.describe()"
   ]
  },
  {
   "cell_type": "markdown",
   "metadata": {},
   "source": [
    "check for any columns with numbers greater than the upper limit which is 100 for the numeric columns"
   ]
  },
  {
   "cell_type": "code",
   "execution_count": 25,
   "metadata": {},
   "outputs": [
    {
     "name": "stdout",
     "output_type": "stream",
     "text": [
      "cocoa_perc\n",
      "(0, 19)\n",
      "CQ\n",
      "(0, 19)\n",
      "sweetness\n",
      "(0, 19)\n",
      "acidity\n",
      "(0, 19)\n",
      "bitterness\n",
      "(0, 19)\n",
      "roast\n",
      "(0, 19)\n",
      "intensity\n",
      "(0, 19)\n",
      "complexity\n",
      "(0, 19)\n",
      "structure\n",
      "(0, 19)\n",
      "length\n",
      "(0, 19)\n",
      "appearance\n",
      "(6, 19)\n",
      "aroma\n",
      "(0, 19)\n",
      "mouthfeel\n",
      "(2, 19)\n",
      "flavor\n",
      "(0, 19)\n",
      "quality\n",
      "(0, 19)\n"
     ]
    }
   ],
   "source": [
    "for cols in df_num.columns[4:]:\n",
    "    print(cols)\n",
    "    print(df_num[df_num[cols] > 100].shape)\n",
    "\n"
   ]
  },
  {
   "cell_type": "markdown",
   "metadata": {},
   "source": [
    "drop columns which have different scaled values (past 100)"
   ]
  },
  {
   "cell_type": "code",
   "execution_count": 26,
   "metadata": {},
   "outputs": [
    {
     "name": "stderr",
     "output_type": "stream",
     "text": [
      "/anaconda3/lib/python3.7/site-packages/pandas/core/frame.py:3940: SettingWithCopyWarning: \n",
      "A value is trying to be set on a copy of a slice from a DataFrame\n",
      "\n",
      "See the caveats in the documentation: http://pandas.pydata.org/pandas-docs/stable/indexing.html#indexing-view-versus-copy\n",
      "  errors=errors)\n"
     ]
    }
   ],
   "source": [
    "drop_indexes = []\n",
    "#go through columns\n",
    "for cols in df_num.columns[4:]:\n",
    "    #get the indexes of row values past 100\n",
    "    drop_ind = list(df_num[df_num[cols] > 100].index)\n",
    "    #check if there is a value in the list\n",
    "    if len(drop_ind) > 0:\n",
    "        #add to current list\n",
    "        drop_indexes = drop_indexes + drop_ind\n",
    "#drop indexes\n",
    "df_num.drop(drop_indexes, axis=0, inplace=True)"
   ]
  },
  {
   "cell_type": "markdown",
   "metadata": {},
   "source": [
    "check for null values"
   ]
  },
  {
   "cell_type": "code",
   "execution_count": 27,
   "metadata": {},
   "outputs": [
    {
     "name": "stdout",
     "output_type": "stream",
     "text": [
      "(1562, 19)\n"
     ]
    },
    {
     "data": {
      "text/plain": [
       "choco_bar_name      0\n",
       "company_name        0\n",
       "company_loc         0\n",
       "rating              0\n",
       "cocoa_perc        195\n",
       "CQ                  0\n",
       "sweetness           0\n",
       "acidity             0\n",
       "bitterness          0\n",
       "roast               0\n",
       "intensity           0\n",
       "complexity          0\n",
       "structure           0\n",
       "length              0\n",
       "appearance          0\n",
       "aroma               0\n",
       "mouthfeel           0\n",
       "flavor              0\n",
       "quality             0\n",
       "dtype: int64"
      ]
     },
     "execution_count": 27,
     "metadata": {},
     "output_type": "execute_result"
    }
   ],
   "source": [
    "print(df_num.shape)\n",
    "df_num.isnull().sum()"
   ]
  },
  {
   "cell_type": "markdown",
   "metadata": {},
   "source": [
    "check if we can replace the null values with the mean or median"
   ]
  },
  {
   "cell_type": "code",
   "execution_count": 28,
   "metadata": {},
   "outputs": [
    {
     "data": {
      "text/plain": [
       "<matplotlib.axes._subplots.AxesSubplot at 0x118e05550>"
      ]
     },
     "execution_count": 28,
     "metadata": {},
     "output_type": "execute_result"
    },
    {
     "data": {
      "image/png": "[encoded data removed]",
      "text/plain": [
       "<Figure size 432x288 with 1 Axes>"
      ]
     },
     "metadata": {
      "needs_background": "light"
     },
     "output_type": "display_data"
    }
   ],
   "source": [
    "#original\n",
    "df_num.cocoa_perc.hist()"
   ]
  },
  {
   "cell_type": "code",
   "execution_count": 29,
   "metadata": {},
   "outputs": [
    {
     "data": {
      "text/plain": [
       "<matplotlib.axes._subplots.AxesSubplot at 0x11a586d30>"
      ]
     },
     "execution_count": 29,
     "metadata": {},
     "output_type": "execute_result"
    },
    {
     "data": {
      "image/png": "[encoded data removed]",
      "text/plain": [
       "<Figure size 432x288 with 1 Axes>"
      ]
     },
     "metadata": {
      "needs_background": "light"
     },
     "output_type": "display_data"
    }
   ],
   "source": [
    "#mean\n",
    "df_num['cocoa_perc'].fillna(round(df_num['cocoa_perc'].mean())).hist()"
   ]
  },
  {
   "cell_type": "code",
   "execution_count": 30,
   "metadata": {},
   "outputs": [
    {
     "data": {
      "text/plain": [
       "<matplotlib.axes._subplots.AxesSubplot at 0x118e4be10>"
      ]
     },
     "execution_count": 30,
     "metadata": {},
     "output_type": "execute_result"
    },
    {
     "data": {
      "image/png": "[encoded data removed]",
      "text/plain": [
       "<Figure size 432x288 with 1 Axes>"
      ]
     },
     "metadata": {
      "needs_background": "light"
     },
     "output_type": "display_data"
    }
   ],
   "source": [
    "#median\n",
    "df_num['cocoa_perc'].fillna(df_num['cocoa_perc'].median()).hist()"
   ]
  },
  {
   "cell_type": "markdown",
   "metadata": {},
   "source": [
    "looks like replacing the null values would deviate away from normalization and increae the kurtosis, visually.<br>\n",
    "Just drop the null values"
   ]
  },
  {
   "cell_type": "code",
   "execution_count": 31,
   "metadata": {
    "scrolled": true
   },
   "outputs": [
    {
     "name": "stderr",
     "output_type": "stream",
     "text": [
      "/anaconda3/lib/python3.7/site-packages/ipykernel_launcher.py:1: SettingWithCopyWarning: \n",
      "A value is trying to be set on a copy of a slice from a DataFrame\n",
      "\n",
      "See the caveats in the documentation: http://pandas.pydata.org/pandas-docs/stable/indexing.html#indexing-view-versus-copy\n",
      "  \"\"\"Entry point for launching an IPython kernel.\n"
     ]
    }
   ],
   "source": [
    "df_num.dropna(axis=0, how='any', inplace=True)"
   ]
  },
  {
   "cell_type": "code",
   "execution_count": 32,
   "metadata": {},
   "outputs": [
    {
     "name": "stdout",
     "output_type": "stream",
     "text": [
      "(1367, 19)\n"
     ]
    },
    {
     "data": {
      "text/plain": [
       "choco_bar_name    0\n",
       "company_name      0\n",
       "company_loc       0\n",
       "rating            0\n",
       "cocoa_perc        0\n",
       "CQ                0\n",
       "sweetness         0\n",
       "acidity           0\n",
       "bitterness        0\n",
       "roast             0\n",
       "intensity         0\n",
       "complexity        0\n",
       "structure         0\n",
       "length            0\n",
       "appearance        0\n",
       "aroma             0\n",
       "mouthfeel         0\n",
       "flavor            0\n",
       "quality           0\n",
       "dtype: int64"
      ]
     },
     "execution_count": 32,
     "metadata": {},
     "output_type": "execute_result"
    }
   ],
   "source": [
    "print(df_num.shape)\n",
    "df_num.isnull().sum()"
   ]
  },
  {
   "cell_type": "markdown",
   "metadata": {},
   "source": [
    "looks good now"
   ]
  },
  {
   "cell_type": "markdown",
   "metadata": {},
   "source": [
    "lets just scale the rating to out of 100 instead of out of 5 so that it can be on the same scale as the others"
   ]
  },
  {
   "cell_type": "code",
   "execution_count": 33,
   "metadata": {},
   "outputs": [
    {
     "data": {
      "text/html": [
       "<div>\n",
       "<style scoped>\n",
       "    .dataframe tbody tr th:only-of-type {\n",
       "        vertical-align: middle;\n",
       "    }\n",
       "\n",
       "    .dataframe tbody tr th {\n",
       "        vertical-align: top;\n",
       "    }\n",
       "\n",
       "    .dataframe thead th {\n",
       "        text-align: right;\n",
       "    }\n",
       "</style>\n",
       "<table border=\"1\" class=\"dataframe\">\n",
       "  <thead>\n",
       "    <tr style=\"text-align: right;\">\n",
       "      <th></th>\n",
       "      <th>choco_bar_name</th>\n",
       "      <th>company_name</th>\n",
       "      <th>company_loc</th>\n",
       "      <th>rating</th>\n",
       "      <th>cocoa_perc</th>\n",
       "      <th>CQ</th>\n",
       "      <th>sweetness</th>\n",
       "      <th>acidity</th>\n",
       "      <th>bitterness</th>\n",
       "      <th>roast</th>\n",
       "      <th>intensity</th>\n",
       "      <th>complexity</th>\n",
       "      <th>structure</th>\n",
       "      <th>length</th>\n",
       "      <th>appearance</th>\n",
       "      <th>aroma</th>\n",
       "      <th>mouthfeel</th>\n",
       "      <th>flavor</th>\n",
       "      <th>quality</th>\n",
       "    </tr>\n",
       "  </thead>\n",
       "  <tbody>\n",
       "    <tr>\n",
       "      <th>0</th>\n",
       "      <td>Nib Brittle</td>\n",
       "      <td>Theo</td>\n",
       "      <td>USA</td>\n",
       "      <td>2.5</td>\n",
       "      <td>65.0</td>\n",
       "      <td>57.0</td>\n",
       "      <td>55.0</td>\n",
       "      <td>48.0</td>\n",
       "      <td>37.0</td>\n",
       "      <td>62.0</td>\n",
       "      <td>51.0</td>\n",
       "      <td>43.0</td>\n",
       "      <td>41.0</td>\n",
       "      <td>29.0</td>\n",
       "      <td>74.0</td>\n",
       "      <td>72.0</td>\n",
       "      <td>72.0</td>\n",
       "      <td>81.4</td>\n",
       "      <td>83.0</td>\n",
       "    </tr>\n",
       "    <tr>\n",
       "      <th>2</th>\n",
       "      <td>Ivory Coast</td>\n",
       "      <td>Theo</td>\n",
       "      <td>USA</td>\n",
       "      <td>4.0</td>\n",
       "      <td>75.0</td>\n",
       "      <td>53.0</td>\n",
       "      <td>42.0</td>\n",
       "      <td>40.0</td>\n",
       "      <td>49.0</td>\n",
       "      <td>71.0</td>\n",
       "      <td>37.0</td>\n",
       "      <td>36.0</td>\n",
       "      <td>80.0</td>\n",
       "      <td>82.0</td>\n",
       "      <td>92.0</td>\n",
       "      <td>82.0</td>\n",
       "      <td>85.3</td>\n",
       "      <td>88.4</td>\n",
       "      <td>86.5</td>\n",
       "    </tr>\n",
       "    <tr>\n",
       "      <th>3</th>\n",
       "      <td>Ghana-Panama-Ecuador</td>\n",
       "      <td>Theo</td>\n",
       "      <td>USA</td>\n",
       "      <td>3.5</td>\n",
       "      <td>75.0</td>\n",
       "      <td>44.0</td>\n",
       "      <td>48.0</td>\n",
       "      <td>76.0</td>\n",
       "      <td>50.0</td>\n",
       "      <td>63.0</td>\n",
       "      <td>45.0</td>\n",
       "      <td>52.0</td>\n",
       "      <td>39.0</td>\n",
       "      <td>81.0</td>\n",
       "      <td>100.0</td>\n",
       "      <td>80.0</td>\n",
       "      <td>82.0</td>\n",
       "      <td>86.4</td>\n",
       "      <td>87.0</td>\n",
       "    </tr>\n",
       "    <tr>\n",
       "      <th>4</th>\n",
       "      <td>Mad 65</td>\n",
       "      <td>Theo</td>\n",
       "      <td>USA</td>\n",
       "      <td>4.0</td>\n",
       "      <td>65.0</td>\n",
       "      <td>60.0</td>\n",
       "      <td>56.0</td>\n",
       "      <td>76.0</td>\n",
       "      <td>20.0</td>\n",
       "      <td>68.0</td>\n",
       "      <td>64.0</td>\n",
       "      <td>62.0</td>\n",
       "      <td>83.0</td>\n",
       "      <td>51.0</td>\n",
       "      <td>100.0</td>\n",
       "      <td>73.0</td>\n",
       "      <td>90.7</td>\n",
       "      <td>89.0</td>\n",
       "      <td>90.0</td>\n",
       "    </tr>\n",
       "    <tr>\n",
       "      <th>6</th>\n",
       "      <td>85% Blend</td>\n",
       "      <td>Venchi</td>\n",
       "      <td>Italy</td>\n",
       "      <td>3.5</td>\n",
       "      <td>85.0</td>\n",
       "      <td>23.0</td>\n",
       "      <td>21.0</td>\n",
       "      <td>8.0</td>\n",
       "      <td>70.0</td>\n",
       "      <td>76.0</td>\n",
       "      <td>52.0</td>\n",
       "      <td>10.0</td>\n",
       "      <td>78.0</td>\n",
       "      <td>69.0</td>\n",
       "      <td>92.0</td>\n",
       "      <td>84.0</td>\n",
       "      <td>83.3</td>\n",
       "      <td>84.2</td>\n",
       "      <td>82.5</td>\n",
       "    </tr>\n",
       "  </tbody>\n",
       "</table>\n",
       "</div>"
      ],
      "text/plain": [
       "         choco_bar_name company_name company_loc  rating  cocoa_perc    CQ  \\\n",
       "0           Nib Brittle         Theo         USA     2.5        65.0  57.0   \n",
       "2           Ivory Coast         Theo         USA     4.0        75.0  53.0   \n",
       "3  Ghana-Panama-Ecuador         Theo         USA     3.5        75.0  44.0   \n",
       "4                Mad 65         Theo         USA     4.0        65.0  60.0   \n",
       "6             85% Blend       Venchi       Italy     3.5        85.0  23.0   \n",
       "\n",
       "   sweetness  acidity  bitterness  roast  intensity  complexity  structure  \\\n",
       "0       55.0     48.0        37.0   62.0       51.0        43.0       41.0   \n",
       "2       42.0     40.0        49.0   71.0       37.0        36.0       80.0   \n",
       "3       48.0     76.0        50.0   63.0       45.0        52.0       39.0   \n",
       "4       56.0     76.0        20.0   68.0       64.0        62.0       83.0   \n",
       "6       21.0      8.0        70.0   76.0       52.0        10.0       78.0   \n",
       "\n",
       "   length  appearance  aroma  mouthfeel  flavor  quality  \n",
       "0    29.0        74.0   72.0       72.0    81.4     83.0  \n",
       "2    82.0        92.0   82.0       85.3    88.4     86.5  \n",
       "3    81.0       100.0   80.0       82.0    86.4     87.0  \n",
       "4    51.0       100.0   73.0       90.7    89.0     90.0  \n",
       "6    69.0        92.0   84.0       83.3    84.2     82.5  "
      ]
     },
     "execution_count": 33,
     "metadata": {},
     "output_type": "execute_result"
    }
   ],
   "source": [
    "df_num.head()"
   ]
  },
  {
   "cell_type": "code",
   "execution_count": 34,
   "metadata": {},
   "outputs": [],
   "source": [
    "#turn to csv\n",
    "#df_num.to_csv('clean_choco_rating_dataset.csv', index=False)"
   ]
  },
  {
   "cell_type": "code",
   "execution_count": null,
   "metadata": {},
   "outputs": [],
   "source": []
  }
 ],
 "metadata": {
  "kernelspec": {
   "display_name": "Python 3",
   "language": "python",
   "name": "python3"
  },
  "language_info": {
   "codemirror_mode": {
    "name": "ipython",
    "version": 3
   },
   "file_extension": ".py",
   "mimetype": "text/x-python",
   "name": "python",
   "nbconvert_exporter": "python",
   "pygments_lexer": "ipython3",
   "version": "3.7.2"
  }
 },
 "nbformat": 4,
 "nbformat_minor": 2
}
